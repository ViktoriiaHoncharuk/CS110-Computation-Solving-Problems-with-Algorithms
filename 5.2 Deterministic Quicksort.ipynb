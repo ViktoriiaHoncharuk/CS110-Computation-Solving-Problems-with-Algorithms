{
 "cells": [
  {
   "cell_type": "markdown",
   "metadata": {},
   "source": [
    "Before you turn this problem in, make sure everything runs as expected. First, **restart the kernel** (in the menubar, select Kernel$\\rightarrow$Restart) and then **run all cells** (in the menubar, select Cell$\\rightarrow$Run All).\n",
    "\n",
    "Make sure you fill in any place that says `YOUR CODE HERE` or \"YOUR ANSWER HERE\", as well as your name and collaborators below:"
   ]
  },
  {
   "cell_type": "code",
   "execution_count": 47,
   "metadata": {},
   "outputs": [],
   "source": [
    "NAME = \"Magali\"\n",
    "COLLABORATORS = \"NA\""
   ]
  },
  {
   "cell_type": "markdown",
   "metadata": {},
   "source": [
    "---"
   ]
  },
  {
   "cell_type": "markdown",
   "metadata": {
    "deletable": false,
    "editable": false,
    "nbgrader": {
     "checksum": "1a4c3cfc3c34bf644ee45d91835b6f70",
     "grade": false,
     "grade_id": "cell-61b183447ded09ef",
     "locked": true,
     "schema_version": 1,
     "solution": false
    }
   },
   "source": [
    "# CS110 Pre-class Work 5.2\n",
    "\n",
    "## Question 1.\n",
    "Using Figure 7.1 in Cormen et al. as a model, perform manually the partition process on the following list: A = [1,5,6,2,3,8,9,4,7]. You just need to specify the followings:\n",
    "1. The array after the process is done.\n",
    "2. The value of $i$ after the process is done."
   ]
  },
  {
   "cell_type": "markdown",
   "metadata": {
    "deletable": false,
    "nbgrader": {
     "checksum": "06dce98d07f8f042785a795b32e7ef75",
     "grade": true,
     "grade_id": "cell-7aa520f8af13679b",
     "locked": false,
     "points": 0,
     "schema_version": 1,
     "solution": true
    }
   },
   "source": [
    "1. [1,5,6,2,3,4,7,9,8]\n",
    "2. 6"
   ]
  },
  {
   "cell_type": "markdown",
   "metadata": {
    "deletable": false,
    "editable": false,
    "nbgrader": {
     "checksum": "21059776e9083caf84e8abb5b6fb893e",
     "grade": false,
     "grade_id": "cell-6c0a9dfd6980c336",
     "locked": true,
     "schema_version": 1,
     "solution": false
    }
   },
   "source": [
    "## Question 2.\n",
    "Code up a Python implementation of `partition(A, p, r)`, closely follow the pseudo-code in Cormen et al., p.172. Your function should return the index of the pivot in the array."
   ]
  },
  {
   "cell_type": "code",
   "execution_count": 79,
   "metadata": {
    "deletable": false,
    "nbgrader": {
     "checksum": "395997ac94ed1416c67b22f7977c07a5",
     "grade": false,
     "grade_id": "cell-1ceb2600756c60ff",
     "locked": false,
     "schema_version": 1,
     "solution": true
    }
   },
   "outputs": [],
   "source": [
    "def partition(A,p,r):\n",
    "    \"\"\"\n",
    "    Assume r<len(A) and p>=0\n",
    "    \"\"\"\n",
    "    x = A[r]\n",
    "    i = p-1\n",
    "    for j in range(p, r):\n",
    "        if A[j] <= x:\n",
    "            i = i + 1\n",
    "            temp = A[i]\n",
    "            A[i] = A[j]\n",
    "            A[j] = temp\n",
    "    tempr = A[r]\n",
    "    A[r] = A[i+1]\n",
    "    A[i+1] = tempr\n",
    "    return i+1\n",
    "            \n",
    "    raise NotImplementedError()"
   ]
  },
  {
   "cell_type": "code",
   "execution_count": 80,
   "metadata": {
    "deletable": false,
    "editable": false,
    "nbgrader": {
     "checksum": "34aa315313b6f9d8de8efe0922e5b563",
     "grade": true,
     "grade_id": "cell-a57b60117a7b82fb",
     "locked": true,
     "points": 1,
     "schema_version": 1,
     "solution": false
    }
   },
   "outputs": [],
   "source": [
    "A = [1,5,6,2,3,8,9,4,7]\n",
    "assert(partition(A, 0, len(A)-1)==6)"
   ]
  },
  {
   "cell_type": "markdown",
   "metadata": {
    "deletable": false,
    "editable": false,
    "nbgrader": {
     "checksum": "3496e310776eba92a8290d114db627cd",
     "grade": false,
     "grade_id": "cell-cd490c45f6733522",
     "locked": true,
     "schema_version": 1,
     "solution": false
    }
   },
   "source": [
    "## Question 3.\n",
    "\n",
    "Code up your own Python implementation of `quicksort(A, p, r)`, using `partition(A,p,r)`."
   ]
  },
  {
   "cell_type": "code",
   "execution_count": 81,
   "metadata": {
    "deletable": false,
    "nbgrader": {
     "checksum": "7e40c51fd1bd31c790aa0dd8abde1fb7",
     "grade": false,
     "grade_id": "cell-8c39ebb8cd1aa83a",
     "locked": false,
     "schema_version": 1,
     "solution": true
    }
   },
   "outputs": [],
   "source": [
    "def quick_sort(A,p,r):\n",
    "    if p < r:\n",
    "        q = partition(A,p,r)\n",
    "        quick_sort(A,p,q-1)\n",
    "        quick_sort(A,q+1,r)\n",
    "    #raise NotImplementedError()"
   ]
  },
  {
   "cell_type": "code",
   "execution_count": 82,
   "metadata": {},
   "outputs": [
    {
     "data": {
      "text/plain": [
       "[0]"
      ]
     },
     "execution_count": 82,
     "metadata": {},
     "output_type": "execute_result"
    }
   ],
   "source": [
    "# test case 1\n",
    "A = [0]\n",
    "quick_sort(A, 0, 0)\n",
    "A"
   ]
  },
  {
   "cell_type": "code",
   "execution_count": 83,
   "metadata": {},
   "outputs": [
    {
     "data": {
      "text/plain": [
       "[1, 2, 3]"
      ]
     },
     "execution_count": 83,
     "metadata": {},
     "output_type": "execute_result"
    }
   ],
   "source": [
    "# test case 2\n",
    "A = [3,1,2]\n",
    "quick_sort(A, 0, 2)\n",
    "A"
   ]
  },
  {
   "cell_type": "markdown",
   "metadata": {},
   "source": [
    "The above test cases work when I run them myself but for some reason the quick_sort assertions below still return an error."
   ]
  },
  {
   "cell_type": "code",
   "execution_count": 84,
   "metadata": {
    "deletable": false,
    "editable": false,
    "nbgrader": {
     "checksum": "80923d1142f0ef958a616db1105a8c1a",
     "grade": true,
     "grade_id": "cell-4f822430efd456ee",
     "locked": true,
     "points": 1,
     "schema_version": 1,
     "solution": false
    }
   },
   "outputs": [
    {
     "ename": "AssertionError",
     "evalue": "",
     "output_type": "error",
     "traceback": [
      "\u001b[0;31m---------------------------------------------------------------------------\u001b[0m",
      "\u001b[0;31mAssertionError\u001b[0m                            Traceback (most recent call last)",
      "\u001b[0;32m<ipython-input-84-3ff2a53494de>\u001b[0m in \u001b[0;36m<module>\u001b[0;34m\u001b[0m\n\u001b[1;32m      1\u001b[0m \u001b[0mA\u001b[0m \u001b[0;34m=\u001b[0m \u001b[0;34m[\u001b[0m\u001b[0;36m0\u001b[0m\u001b[0;34m]\u001b[0m\u001b[0;34m\u001b[0m\u001b[0;34m\u001b[0m\u001b[0m\n\u001b[0;32m----> 2\u001b[0;31m \u001b[0;32massert\u001b[0m\u001b[0;34m(\u001b[0m\u001b[0mquick_sort\u001b[0m\u001b[0;34m(\u001b[0m\u001b[0mA\u001b[0m\u001b[0;34m,\u001b[0m \u001b[0;36m0\u001b[0m\u001b[0;34m,\u001b[0m \u001b[0;36m0\u001b[0m\u001b[0;34m)\u001b[0m \u001b[0;34m==\u001b[0m \u001b[0;34m[\u001b[0m\u001b[0;36m0\u001b[0m\u001b[0;34m]\u001b[0m\u001b[0;34m)\u001b[0m\u001b[0;34m\u001b[0m\u001b[0;34m\u001b[0m\u001b[0m\n\u001b[0m\u001b[1;32m      3\u001b[0m \u001b[0mA\u001b[0m \u001b[0;34m=\u001b[0m \u001b[0;34m[\u001b[0m\u001b[0;36m3\u001b[0m\u001b[0;34m,\u001b[0m\u001b[0;36m1\u001b[0m\u001b[0;34m,\u001b[0m\u001b[0;36m2\u001b[0m\u001b[0;34m]\u001b[0m\u001b[0;34m\u001b[0m\u001b[0;34m\u001b[0m\u001b[0m\n\u001b[1;32m      4\u001b[0m \u001b[0;32massert\u001b[0m\u001b[0;34m(\u001b[0m\u001b[0mquick_sort\u001b[0m\u001b[0;34m(\u001b[0m\u001b[0mA\u001b[0m\u001b[0;34m,\u001b[0m \u001b[0;36m0\u001b[0m\u001b[0;34m,\u001b[0m \u001b[0;36m2\u001b[0m\u001b[0;34m)\u001b[0m \u001b[0;34m==\u001b[0m \u001b[0;34m[\u001b[0m\u001b[0;36m1\u001b[0m\u001b[0;34m,\u001b[0m\u001b[0;36m2\u001b[0m\u001b[0;34m,\u001b[0m\u001b[0;36m3\u001b[0m\u001b[0;34m]\u001b[0m\u001b[0;34m)\u001b[0m\u001b[0;34m\u001b[0m\u001b[0;34m\u001b[0m\u001b[0m\n",
      "\u001b[0;31mAssertionError\u001b[0m: "
     ]
    }
   ],
   "source": [
    "A = [0]\n",
    "assert(quick_sort(A, 0, 0) == [0])\n",
    "A = [3,1,2]\n",
    "assert(quick_sort(A, 0, 2) == [1,2,3])"
   ]
  },
  {
   "cell_type": "markdown",
   "metadata": {
    "deletable": false,
    "editable": false,
    "nbgrader": {
     "checksum": "741cfe874ccaef343713f81ec963360c",
     "grade": false,
     "grade_id": "cell-53941fba9302c591",
     "locked": true,
     "schema_version": 1,
     "solution": false
    }
   },
   "source": [
    "## Question 4. \n",
    "Explain (using experimental plots) the running time of `quick_sort` when: \n",
    "1. all elements of array A have the same value (e.g., [1,1,1])?\n",
    "2. array A contains distinct elements sorted in decreasing order (e.g., [5,4,2,1])?\n"
   ]
  },
  {
   "cell_type": "code",
   "execution_count": 192,
   "metadata": {},
   "outputs": [],
   "source": [
    "# import relevant libraries\n",
    "import numpy as np # for Question 2, 3, 4, 5\n",
    "from matplotlib import pyplot as plt  # for Question 6 and 7\n",
    "import time # for Question 6 and 7\n",
    "import random # for Question 6 and 7"
   ]
  },
  {
   "cell_type": "code",
   "execution_count": 193,
   "metadata": {},
   "outputs": [],
   "source": [
    "def practical_run_times_simulation(input_sizes, algo_name, full_name, same):\n",
    "    # input_sizes = [1, 4, 10, 50, 100, 250, 500, 750, 1000, 5000]\n",
    "    ttl_test_times = np.empty(len(input_sizes))\n",
    "    for i in range(0, 100):  # run a 100 simulations for each size\n",
    "        if same == True:\n",
    "            test_arrays = create_input_same(input_sizes)\n",
    "        else:\n",
    "            test_arrays = create_input_descending(input_sizes)\n",
    "        test_times = run_time(test_arrays, algo_name)\n",
    "        ttl_test_times = np.add(ttl_test_times, test_times)\n",
    "    # print(ttl_test_times)\n",
    "    avg_test_times = ttl_test_times / i \n",
    "    # print(avg_test_times)\n",
    "    graph_run_time(input_sizes, ttl_test_times, full_name)"
   ]
  },
  {
   "cell_type": "code",
   "execution_count": 194,
   "metadata": {},
   "outputs": [],
   "source": [
    "def create_input_same(sizes_arr):\n",
    "    sample_arrays = []\n",
    "    for i in range(0, len(sizes_arr)):\n",
    "        sample_arrays.append([random.randint(0,100000)]*sizes_arr[i])\n",
    "    return(sample_arrays)"
   ]
  },
  {
   "cell_type": "code",
   "execution_count": 195,
   "metadata": {},
   "outputs": [],
   "source": [
    "def create_input_descending(sizes_arr):\n",
    "    sample_arrays = []\n",
    "    for i in range(0, len(sizes_arr)):\n",
    "        sample_arrays.append(list(reversed(range(sizes_arr[i]))))\n",
    "    return(sample_arrays)"
   ]
  },
  {
   "cell_type": "code",
   "execution_count": 196,
   "metadata": {
    "deletable": false,
    "nbgrader": {
     "checksum": "b27c65928ef98faa0539bcb27f7a6eb7",
     "grade": true,
     "grade_id": "cell-7de481a7d24e508b",
     "locked": false,
     "points": 0,
     "schema_version": 1,
     "solution": true
    }
   },
   "outputs": [],
   "source": [
    "# Get run time for three-way merge\n",
    "def run_time(input_arr, algo_to_test):\n",
    "    \"\"\"Tracks run time\n",
    "    input_arr: a 2D array/list of lists that has lists of different sizes\n",
    "    \"\"\"\n",
    "    record_times = []\n",
    "    for i in range(0, len(input_arr)):\n",
    "        start_time = time.time()\n",
    "        algo_to_test(input_arr[i], 0, len(input_arr[i])-1) # two extra elements added for quicksort\n",
    "        time_elapsed = (time.time() - start_time)*1000\n",
    "        record_times.append(time_elapsed)\n",
    "    return(record_times)\n",
    "# raise NotImplementedError()"
   ]
  },
  {
   "cell_type": "code",
   "execution_count": 197,
   "metadata": {},
   "outputs": [],
   "source": [
    "def graph_run_time(input_size, run_time, algo_name_str):\n",
    "    \"\"\"Graphs the run time relative to input size\n",
    "    \n",
    "    input_size: a list of integers\n",
    "    run_time: a list of floats (representing time in seconds), same size as list above\n",
    "    algo_name: a string\n",
    "    \"\"\"\n",
    "    plt.plot(input_size, run_time) # plot the two lists\n",
    "    \n",
    "    plt.ylabel(\"Running Time (milliseconds)\") # add y-label\n",
    "    plt.xlabel(\"Input Size\") # add x-label\n",
    "    \n",
    "    title = \"Practical Run Time of \" + algo_name_str\n",
    "    plt.title(title)"
   ]
  },
  {
   "cell_type": "code",
   "execution_count": 207,
   "metadata": {
    "deletable": false,
    "nbgrader": {
     "checksum": "f5ddaf0e684d72d229df078b18f321f8",
     "grade": true,
     "grade_id": "cell-b58035dd5fa02329",
     "locked": false,
     "points": 0,
     "schema_version": 1,
     "solution": true
    }
   },
   "outputs": [
    {
     "data": {
      "image/png": "[encoded data removed]",
      "text/plain": [
       "<Figure size 432x288 with 1 Axes>"
      ]
     },
     "metadata": {
      "needs_background": "light"
     },
     "output_type": "display_data"
    }
   ],
   "source": [
    "# Get run time for quick_sort w/ same lists & small input sizes\n",
    "input_sizes = [0, 1, 5, 10, 15, 20, 25, 30, 35, 40, 50, 55]\n",
    "practical_run_times_simulation(input_sizes, quick_sort, \"Quick Sort with Same Lists\", True)\n"
   ]
  },
  {
   "cell_type": "code",
   "execution_count": 208,
   "metadata": {},
   "outputs": [
    {
     "data": {
      "image/png": "[encoded data removed]",
      "text/plain": [
       "<Figure size 432x288 with 1 Axes>"
      ]
     },
     "metadata": {
      "needs_background": "light"
     },
     "output_type": "display_data"
    }
   ],
   "source": [
    "# Get run time for quick_sort w/ descending lists & small input sizes\n",
    "input_sizes = [0, 1, 5, 10, 15, 20, 25, 30, 35, 40, 50, 55]\n",
    "practical_run_times_simulation(input_sizes, quick_sort, \"Quick Sort with Descending List\", False)\n"
   ]
  },
  {
   "cell_type": "code",
   "execution_count": 209,
   "metadata": {
    "scrolled": true
   },
   "outputs": [
    {
     "data": {
      "image/png": "[encoded data removed]",
      "text/plain": [
       "<Figure size 432x288 with 1 Axes>"
      ]
     },
     "metadata": {
      "needs_background": "light"
     },
     "output_type": "display_data"
    }
   ],
   "source": [
    "# Get run time for quick_sort w/ same lists & large input sizes\n",
    "input_sizes = [1, 4, 10, 50, 100, 250, 500, 750, 1000]\n",
    "practical_run_times_simulation(input_sizes, quick_sort, \"Quick Sort with Same List\", True)"
   ]
  },
  {
   "cell_type": "code",
   "execution_count": 210,
   "metadata": {},
   "outputs": [
    {
     "data": {
      "image/png": "[encoded data removed]",
      "text/plain": [
       "<Figure size 432x288 with 1 Axes>"
      ]
     },
     "metadata": {
      "needs_background": "light"
     },
     "output_type": "display_data"
    }
   ],
   "source": [
    "# Get run time for quick_sort w/ descending lists & large input sizes\n",
    "input_sizes = [1, 4, 10, 50, 100, 250, 500, 750, 1000]\n",
    "practical_run_times_simulation(input_sizes, quick_sort, \"Quick Sort with Descending Lists\", False)\n"
   ]
  },
  {
   "cell_type": "markdown",
   "metadata": {},
   "source": [
    "The algorithm quicksort is inefficient when receiving lists of the same input. It performs worse in terms of running time than if the lists are in descending order. "
   ]
  }
 ],
 "metadata": {
  "kernelspec": {
   "display_name": "Python 3",
   "language": "python",
   "name": "python3"
  },
  "language_info": {
   "codemirror_mode": {
    "name": "ipython",
    "version": 3
   },
   "file_extension": ".py",
   "mimetype": "text/x-python",
   "name": "python",
   "nbconvert_exporter": "python",
   "pygments_lexer": "ipython3",
   "version": "3.7.3"
  }
 },
 "nbformat": 4,
 "nbformat_minor": 2
}
