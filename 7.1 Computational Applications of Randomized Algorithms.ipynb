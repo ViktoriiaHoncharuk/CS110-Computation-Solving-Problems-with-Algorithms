{
 "cells": [
  {
   "cell_type": "code",
   "execution_count": 1,
   "metadata": {},
   "outputs": [],
   "source": [
    "NAME = \"Magali\"\n",
    "COLLABORATORS = \"NA\""
   ]
  },
  {
   "cell_type": "markdown",
   "metadata": {},
   "source": [
    "---"
   ]
  },
  {
   "cell_type": "markdown",
   "metadata": {
    "deletable": false,
    "editable": false,
    "nbgrader": {
     "checksum": "b829d01fa88366d60630dae1299fa764",
     "grade": false,
     "grade_id": "cell-d94cea4a211410ce",
     "locked": true,
     "schema_version": 1,
     "solution": false
    }
   },
   "source": [
    "# CS110 Pre-class Work 7.1\n",
    "\n",
    "## Part A. Median Heap (watch this [video explanation](https://www.youtube.com/watch?v=756_8C9YBZQ&list=PLF_a-qBXTGFektoI6JUOTRL36JlvD04BR&index=5&t=0s) or read this [description](https://stackoverflow.com/a/15319593/7946759))\n",
    "\n",
    "Throughout this pre-class work, please use the following definition of median: the median of a list of numbers is the one in the middle of the list when the list is ordered. When such the middle element can’t be determined (i.e., in a list of even length), the average of the two middle elements is the median. For example, 5 is the median of [-1,2,4,5,8,10,12], and (5+7)/2=6 is the median of [1,2,3,5,7,8,10,11].\n",
    "\n",
    "Using the idea from Lesson 3.2, we can use a pair of heaps to create a data structure which allows fast access to the median. Use the heapq module in python to create both a max-heap and a min-heap. Note that by default, the heapq module in python only creates min-heaps, but if we multiply elements by -1 when we store them, then we can also create max-heaps.\n",
    "\n",
    "\n",
    "## Question 1.\n",
    "Write a function `add_to_median_heap(minh, maxh, elem)`. It must accept a min heap, a max heap, and an element to add.\n"
   ]
  },
  {
   "cell_type": "code",
   "execution_count": 2,
   "metadata": {
    "deletable": false,
    "nbgrader": {
     "checksum": "3f8e0bb0de793ce786eba2f6715d69b3",
     "grade": false,
     "grade_id": "cell-50cb08de70712ee7",
     "locked": false,
     "schema_version": 1,
     "solution": true
    }
   },
   "outputs": [],
   "source": [
    "import heapq\n",
    "\n",
    "def add_to_median_heap(minh, maxh, elem):\n",
    "    # find the current median (call median function)\n",
    "    cmed = median(minh, maxh)\n",
    "    # if both queues are empty\n",
    "    if cmed == float('inf'):\n",
    "        cmed = elem\n",
    "    # compare the element and median\n",
    "    if elem <= cmed: # is the element <= the current median?\n",
    "        # if len(maxh) > len(minh):\n",
    "            # heapq.heappop\n",
    "        heapq.heappush(maxh, elem) # insert into max heap\n",
    "    if elem >= cmed: # is the element >= the current median?\n",
    "        heapq.heappush(minh, elem) # insert into the min heap"
   ]
  },
  {
   "cell_type": "markdown",
   "metadata": {
    "deletable": false,
    "editable": false,
    "nbgrader": {
     "checksum": "47ae2ae64e7e5a094e32b8e29577ebd2",
     "grade": false,
     "grade_id": "cell-b62f7899e36af96f",
     "locked": true,
     "schema_version": 1,
     "solution": false
    }
   },
   "source": [
    "## Question 2\n",
    "Write a function `median(minh, maxh)`. It must return the median element.\n"
   ]
  },
  {
   "cell_type": "code",
   "execution_count": 3,
   "metadata": {
    "deletable": false,
    "nbgrader": {
     "checksum": "4fdb08f74f611846be80db8164227117",
     "grade": false,
     "grade_id": "cell-43ce866dd1dc2d5b",
     "locked": false,
     "schema_version": 1,
     "solution": true
    }
   },
   "outputs": [],
   "source": [
    "def median(minh, maxh):\n",
    "    # get lengths of heaps\n",
    "    lminh = len(minh)\n",
    "    lmaxh = len(maxh)\n",
    "    # when the min-heap contains one more element than the max-heap, \n",
    "    # the median is in the top of the min-heap.\n",
    "    if lminh > lmaxh:\n",
    "        med = heapq.heappop(minh)\n",
    "        return med\n",
    "    # when the max-heap contains one more element than the min-heap, \n",
    "    # the median is in the top of the max-heap.\n",
    "    elif lmaxh > lminh:\n",
    "        med = heapq.heappop(maxh)\n",
    "        return med\n",
    "    # when both heaps contain the same number of elements, \n",
    "    # the total number of elements is even and the median is \n",
    "    # the mean of the two middle elements\n",
    "    else: # lmaxh == lminh:\n",
    "        if lmaxh == 0:\n",
    "            return float('inf')\n",
    "        else:\n",
    "            med1 = heapq.heappop(minh) \n",
    "            med2 = heapq.heappop(maxh) \n",
    "            med = (med1 + med2)/2\n",
    "            return med"
   ]
  },
  {
   "cell_type": "code",
   "execution_count": 4,
   "metadata": {
    "deletable": false,
    "editable": false,
    "nbgrader": {
     "checksum": "9f79f245efea8c7b7d7c444af36ad997",
     "grade": true,
     "grade_id": "cell-673faa69bf330eda",
     "locked": true,
     "points": 0,
     "schema_version": 1,
     "solution": false
    }
   },
   "outputs": [],
   "source": [
    "# Please ignore this cell. This cell is for us to implement the tests \n",
    "# to see if your code works properly. "
   ]
  },
  {
   "cell_type": "markdown",
   "metadata": {
    "deletable": false,
    "editable": false,
    "nbgrader": {
     "checksum": "ea112ad1eac7cf41487236cf22381071",
     "grade": false,
     "grade_id": "cell-ec86b3a3c5adaedf",
     "locked": true,
     "schema_version": 1,
     "solution": false
    }
   },
   "source": [
    "## Question 3.\n",
    "\n",
    "Uncomment and run the testing code given below to test your functions. It should print out numbers ranging from 1 to 50, in that order."
   ]
  },
  {
   "cell_type": "code",
   "execution_count": 5,
   "metadata": {},
   "outputs": [
    {
     "name": "stdout",
     "output_type": "stream",
     "text": [
      "1.0\n",
      "3.0\n",
      "5.0\n",
      "7.0\n",
      "9.0\n",
      "11.0\n",
      "13.0\n",
      "15.0\n",
      "17.0\n",
      "19.0\n",
      "21.0\n",
      "23.0\n",
      "25.0\n",
      "27.0\n",
      "29.0\n",
      "31.0\n",
      "33.0\n",
      "35.0\n",
      "37.0\n",
      "39.0\n",
      "41.0\n",
      "43.0\n",
      "45.0\n",
      "47.0\n",
      "49.0\n",
      "51.0\n",
      "53.0\n",
      "55.0\n",
      "57.0\n",
      "59.0\n",
      "61.0\n",
      "63.0\n",
      "65.0\n",
      "67.0\n",
      "69.0\n",
      "71.0\n",
      "73.0\n",
      "75.0\n",
      "77.0\n",
      "79.0\n",
      "81.0\n",
      "83.0\n",
      "85.0\n",
      "87.0\n",
      "89.0\n",
      "91.0\n",
      "93.0\n",
      "95.0\n",
      "97.0\n",
      "99.0\n"
     ]
    }
   ],
   "source": [
    "minh = []\n",
    "# heapq.heapify(minh)\n",
    "maxh = []\n",
    "# heapq.heapify(maxh)\n",
    "for a in range(1,100,2):\n",
    "    add_to_median_heap(minh, maxh, a)\n",
    "    print(median(minh, maxh))  "
   ]
  },
  {
   "cell_type": "markdown",
   "metadata": {},
   "source": [
    "The instructions say that it should print numbers until 50 but here it prints until 100, according to the defined range function (from 0 to 100, skip by 2 / odd numbers). "
   ]
  },
  {
   "cell_type": "markdown",
   "metadata": {
    "deletable": false,
    "editable": false,
    "nbgrader": {
     "checksum": "be3a94b3063c99a265c7b868e45a5f69",
     "grade": false,
     "grade_id": "cell-11d4510a48c38394",
     "locked": true,
     "schema_version": 1,
     "solution": false
    }
   },
   "source": [
    "## Question 4.\n",
    "What’s the worst case complexity to build a median heap using `add_to_median_heap`?"
   ]
  },
  {
   "cell_type": "markdown",
   "metadata": {
    "deletable": false,
    "nbgrader": {
     "checksum": "4ddd5b5c6be74e7306bd08ee76a1b858",
     "grade": true,
     "grade_id": "cell-c8e33ebdc8aaf328",
     "locked": false,
     "points": 0,
     "schema_version": 1,
     "solution": true
    }
   },
   "source": [
    "The worst-case complexity to build a median heap is equivalent to the complexity it takes to push an element in: O(n log n), where n is roughly half of all the elements. I believe that this is the same as the average case complexity."
   ]
  },
  {
   "cell_type": "markdown",
   "metadata": {
    "deletable": false,
    "editable": false,
    "nbgrader": {
     "checksum": "8a1276ebbad9b1292badcb9090c8a910",
     "grade": false,
     "grade_id": "cell-dada08b7f913c96f",
     "locked": true,
     "schema_version": 1,
     "solution": false
    }
   },
   "source": [
    "## Question 5.\n",
    "What’s the worst case complexity of `median`?"
   ]
  },
  {
   "cell_type": "markdown",
   "metadata": {
    "deletable": false,
    "nbgrader": {
     "checksum": "7d67e5e84a28b798ba456d72603533f0",
     "grade": true,
     "grade_id": "cell-c061920faa337890",
     "locked": false,
     "points": 0,
     "schema_version": 1,
     "solution": true
    }
   },
   "source": [
    "The worst-case complexity of median is equivalent to the complexity it takes to pop an element: O(n log n) (and some constant time when calculating the mean of the two), where n is roughly half of all the elements. I believe that this is the same as the average case complexity."
   ]
  },
  {
   "cell_type": "markdown",
   "metadata": {
    "deletable": false,
    "editable": false,
    "nbgrader": {
     "checksum": "73694bd23377143032d5224818a389b7",
     "grade": false,
     "grade_id": "cell-fcf89277dcd46cbe",
     "locked": true,
     "schema_version": 1,
     "solution": false
    }
   },
   "source": [
    "## Question 6.\n",
    "\n",
    "How does this way of finding the median compare with the vanilla way of sorting the list and pick the middle element? Use arguments based on efficiency or clearity of the respective algorithms."
   ]
  },
  {
   "cell_type": "markdown",
   "metadata": {
    "deletable": false,
    "nbgrader": {
     "checksum": "733fe35313ebf5888c622423bb7462b4",
     "grade": true,
     "grade_id": "cell-1f31afecda9730a7",
     "locked": false,
     "points": 0,
     "schema_version": 1,
     "solution": true
    }
   },
   "source": [
    "The most efficient sorting algorithms have an average case complexity of O(n log n) too (merge sort, heap sort, quick sort).  Nevertheless, n is defined here as all of the elements, unlike with the heaps. Picking the middle element is constant time (it requires just the division of the length by two).  Hence, while the \"vanilla\" way of sorting is O(n log n), the heaps median algorithm complexity can be represented by O(n/2 log n/2) + O(n/2 log n/2). "
   ]
  },
  {
   "cell_type": "markdown",
   "metadata": {
    "deletable": false,
    "editable": false,
    "nbgrader": {
     "checksum": "d4869e0b17f0248df4c3ae91668257e8",
     "grade": false,
     "grade_id": "cell-695c23986b831032",
     "locked": true,
     "schema_version": 1,
     "solution": false
    }
   },
   "source": [
    "## [Optional] Question 7.\n",
    "\n",
    "Is it possible to extend this idea to any percentile? If it is, then write code to do so. If it’s not possible, prove why it is not possible."
   ]
  },
  {
   "cell_type": "markdown",
   "metadata": {
    "deletable": false,
    "nbgrader": {
     "checksum": "c293e85a4cf43662dc635c9e0f511be4",
     "grade": true,
     "grade_id": "cell-4d0c197e6d484338",
     "locked": false,
     "points": 0,
     "schema_version": 1,
     "solution": true
    }
   },
   "source": [
    "What does it mean: any percentile?  As in the median is at the 50th percentile and we are wondering whether we can do a min-/max-heap for a number that's at, say, the 75th percentile?"
   ]
  },
  {
   "cell_type": "markdown",
   "metadata": {
    "deletable": false,
    "editable": false,
    "nbgrader": {
     "checksum": "bd7ff85760b2e8303c3b4482b6ca44b2",
     "grade": false,
     "grade_id": "cell-3cba7ecc0de11f1b",
     "locked": true,
     "schema_version": 1,
     "solution": false
    }
   },
   "source": [
    "## Part B. Quickselect\n",
    "\n",
    "Quicksort can be modified to find the $k$-th smallest element in an unordered list. This is known as quickselect. It does this by choosing a partition (as in quicksort). Once the list has been partitioned then we know how many elements lie to the left and to the right of the partition. This allows us to recursively call quickselect on the correct sublist.\n",
    "\n",
    "## Question 1.\n",
    "\n",
    "Write a function `qselect(lst, k)`, which takes both a list and an index $k$. The function must then return the $k$-th smallest item in the list.\n"
   ]
  },
  {
   "cell_type": "markdown",
   "metadata": {},
   "source": [
    "I'm not sure I understand the prompt correctly.  Is this what is meant by quickselect?  If not, how can we know that the element is the k_th smallest if the list is unordered?  Do we first need to order the list?"
   ]
  },
  {
   "cell_type": "code",
   "execution_count": 6,
   "metadata": {
    "deletable": false,
    "nbgrader": {
     "checksum": "3714ebe85f9dbc77eb3bb3c106a009ea",
     "grade": false,
     "grade_id": "cell-fb9c2bc9d5b4bc92",
     "locked": false,
     "schema_version": 1,
     "solution": true
    }
   },
   "outputs": [],
   "source": [
    "def qselect(lst,k):\n",
    "    F = quick_sort(lst, 0, len(lst)-1)\n",
    "    elem = F[k]\n",
    "    return elem"
   ]
  },
  {
   "cell_type": "code",
   "execution_count": 7,
   "metadata": {},
   "outputs": [],
   "source": [
    "def quick_sort(A,p,r):\n",
    "    if p < r:\n",
    "        q = partition(A,p,r)\n",
    "        quick_sort(A,p,q-1)\n",
    "        quick_sort(A,q+1,r)\n",
    "    return A"
   ]
  },
  {
   "cell_type": "code",
   "execution_count": 8,
   "metadata": {},
   "outputs": [],
   "source": [
    "def partition(A,p,r):\n",
    "    \"\"\"\n",
    "    Assume r<len(A) and p>=0\n",
    "    \"\"\"\n",
    "    x = A[r]\n",
    "    i = p-1\n",
    "    for j in range(p, r):\n",
    "        if A[j] <= x:\n",
    "            i = i + 1\n",
    "            temp = A[i]\n",
    "            A[i] = A[j]\n",
    "            A[j] = temp\n",
    "    tempr = A[r]\n",
    "    A[r] = A[i+1]\n",
    "    A[i+1] = tempr\n",
    "    return i+1"
   ]
  },
  {
   "cell_type": "code",
   "execution_count": 9,
   "metadata": {
    "deletable": false,
    "editable": false,
    "nbgrader": {
     "checksum": "5ee41421528107f7ae195a7197a5d6d9",
     "grade": true,
     "grade_id": "cell-85a25ed6a1f62a66",
     "locked": true,
     "points": 0,
     "schema_version": 1,
     "solution": false
    }
   },
   "outputs": [],
   "source": [
    "import random\n",
    "random.seed(123) # introducing a seed for reproducibility purposes\n",
    "lst1 = list(range(100))\n",
    "random.shuffle(lst1)\n",
    "lst2 = []\n",
    "for a in range(100):\n",
    "    lst2.append(qselect(lst1, a))\n",
    "assert(lst2 == list(range(100)))"
   ]
  },
  {
   "cell_type": "markdown",
   "metadata": {
    "deletable": false,
    "editable": false,
    "nbgrader": {
     "checksum": "54fddc25ea0529f44aa6653b18ff7745",
     "grade": false,
     "grade_id": "cell-8013044acd03642a",
     "locked": true,
     "schema_version": 1,
     "solution": false
    }
   },
   "source": [
    "## Question 2.\n",
    "Uncomment and run the testing code given below to test your function. It should print out integers from 0 to 99.\n"
   ]
  },
  {
   "cell_type": "code",
   "execution_count": 10,
   "metadata": {},
   "outputs": [
    {
     "name": "stdout",
     "output_type": "stream",
     "text": [
      "0\n",
      "1\n",
      "2\n",
      "3\n",
      "4\n",
      "5\n",
      "6\n",
      "7\n",
      "8\n",
      "9\n",
      "10\n",
      "11\n",
      "12\n",
      "13\n",
      "14\n",
      "15\n",
      "16\n",
      "17\n",
      "18\n",
      "19\n",
      "20\n",
      "21\n",
      "22\n",
      "23\n",
      "24\n",
      "25\n",
      "26\n",
      "27\n",
      "28\n",
      "29\n",
      "30\n",
      "31\n",
      "32\n",
      "33\n",
      "34\n",
      "35\n",
      "36\n",
      "37\n",
      "38\n",
      "39\n",
      "40\n",
      "41\n",
      "42\n",
      "43\n",
      "44\n",
      "45\n",
      "46\n",
      "47\n",
      "48\n",
      "49\n",
      "50\n",
      "51\n",
      "52\n",
      "53\n",
      "54\n",
      "55\n",
      "56\n",
      "57\n",
      "58\n",
      "59\n",
      "60\n",
      "61\n",
      "62\n",
      "63\n",
      "64\n",
      "65\n",
      "66\n",
      "67\n",
      "68\n",
      "69\n",
      "70\n",
      "71\n",
      "72\n",
      "73\n",
      "74\n",
      "75\n",
      "76\n",
      "77\n",
      "78\n",
      "79\n",
      "80\n",
      "81\n",
      "82\n",
      "83\n",
      "84\n",
      "85\n",
      "86\n",
      "87\n",
      "88\n",
      "89\n",
      "90\n",
      "91\n",
      "92\n",
      "93\n",
      "94\n",
      "95\n",
      "96\n",
      "97\n",
      "98\n",
      "99\n"
     ]
    }
   ],
   "source": [
    "import random\n",
    "random.seed(123) # introducing a seed for reproducibility purposes\n",
    "lst = list(range(100))\n",
    "random.shuffle(lst)\n",
    "for a in range(100):     \n",
    "    print(qselect(lst, a))\n"
   ]
  },
  {
   "cell_type": "markdown",
   "metadata": {
    "deletable": false,
    "editable": false,
    "nbgrader": {
     "checksum": "3fede812466807c2a250ab3c6427f75c",
     "grade": false,
     "grade_id": "cell-e7a965de7bb56aa3",
     "locked": true,
     "schema_version": 1,
     "solution": false
    }
   },
   "source": [
    "## Question 3.\n",
    "\n",
    "Write down the recurrence relation for your code."
   ]
  },
  {
   "cell_type": "markdown",
   "metadata": {
    "deletable": false,
    "nbgrader": {
     "checksum": "6fb3d2481f5df1b96c902e5446844f87",
     "grade": true,
     "grade_id": "cell-24144607b3ffade3",
     "locked": false,
     "points": 0,
     "schema_version": 1,
     "solution": true
    }
   },
   "source": [
    "T(N) = N + T(N-1) \n",
    "\n",
    "or \n",
    "\n",
    "T(N) = N + 2T(N/2)"
   ]
  },
  {
   "cell_type": "markdown",
   "metadata": {
    "deletable": false,
    "editable": false,
    "nbgrader": {
     "checksum": "311ee23a32dbc3ba43d3bba0d433871b",
     "grade": false,
     "grade_id": "cell-fd740516f4259f3c",
     "locked": true,
     "schema_version": 1,
     "solution": false
    }
   },
   "source": [
    "## Question 4.\n",
    "\n",
    "Solve the recurrence relation for quickselect in the best case.\n"
   ]
  },
  {
   "cell_type": "markdown",
   "metadata": {
    "deletable": false,
    "nbgrader": {
     "checksum": "78416da569a0269f78967b11d7b93332",
     "grade": true,
     "grade_id": "cell-c125f4742933e820",
     "locked": false,
     "points": 0,
     "schema_version": 1,
     "solution": true
    }
   },
   "source": [
    "I'll take the second one to be the best case. \n",
    "\n",
    "T(N) = N + 2T(N/2)\n",
    "\n",
    "No idea how to go about it.  But I think this should be equal to O(N log (N)).  I'll be going to OH to ask about this once I receive a review."
   ]
  },
  {
   "cell_type": "markdown",
   "metadata": {
    "deletable": false,
    "editable": false,
    "nbgrader": {
     "checksum": "7cc9c5e0531e8ece71be2ff60ee65995",
     "grade": false,
     "grade_id": "cell-e281cecc190fd662",
     "locked": true,
     "schema_version": 1,
     "solution": false
    }
   },
   "source": [
    "## Question 5.\n",
    "\n",
    "Solve the recurrence relation for quickselect in the worst case."
   ]
  },
  {
   "cell_type": "markdown",
   "metadata": {
    "deletable": false,
    "nbgrader": {
     "checksum": "f4cceeaea59e48c3fabdb8d19e302db5",
     "grade": true,
     "grade_id": "cell-852c3a71d8c2d7c1",
     "locked": false,
     "points": 0,
     "schema_version": 1,
     "solution": true
    }
   },
   "source": [
    "T(N) = N + T(N-1) \n",
    " \n",
    "\n",
    "T(N-1) = (N-1) + T(N-2) \n",
    "\n",
    "\n",
    "T(N-2) = (N-2) + T(N-3)\n",
    "\n",
    "\n",
    "...\n",
    "\n",
    " \n",
    "\n",
    "T(2) = (2) + T(1) = 2\n",
    "\n",
    " \n",
    "\n",
    "T(1) = 1 + T(0) = 0 ? \n",
    "\n",
    " \n",
    "\n",
    "T(0) = (0) + T(N-1) => T(1) = 0\n",
    "\n",
    "\n",
    "\n",
    "=> T(N) = N + (N-1) + (N-2) ... + 2 + 0\n",
    "\n",
    "\n",
    "= (N^2)/2\n",
    "\n",
    "= O(N^2)"
   ]
  }
 ],
 "metadata": {
  "kernelspec": {
   "display_name": "Python 3",
   "language": "python",
   "name": "python3"
  },
  "language_info": {
   "codemirror_mode": {
    "name": "ipython",
    "version": 3
   },
   "file_extension": ".py",
   "mimetype": "text/x-python",
   "name": "python",
   "nbconvert_exporter": "python",
   "pygments_lexer": "ipython3",
   "version": "3.7.3"
  }
 },
 "nbformat": 4,
 "nbformat_minor": 2
}
