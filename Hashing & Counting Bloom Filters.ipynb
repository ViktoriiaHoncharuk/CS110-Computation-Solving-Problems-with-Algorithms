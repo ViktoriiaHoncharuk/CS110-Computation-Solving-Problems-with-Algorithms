{
 "cells": [
  {
   "cell_type": "code",
   "execution_count": null,
   "metadata": {},
   "outputs": [],
   "source": [
    "NAME = \"Magali\"\n",
    "COLLABORATORS = \"NA\""
   ]
  },
  {
   "cell_type": "markdown",
   "metadata": {},
   "source": [
    "---"
   ]
  },
  {
   "cell_type": "markdown",
   "metadata": {
    "deletable": false,
    "editable": false,
    "nbgrader": {
     "checksum": "e5d2038e11c57d2abd9d2c24d9421273",
     "grade": false,
     "grade_id": "cell-26967b3698cd6565",
     "locked": true,
     "schema_version": 1,
     "solution": false
    }
   },
   "source": [
    "\n",
    "# CS110 Spring 2020 Assignment - Indexing Techniques and Data Structures.\n",
    "\n",
    "\n",
    "## Overview\n",
    "\n",
    " In this assignment, you  will research  Counting Bloom Filters (CBFs), which are data structures that extend the standard Bloom Filters. You will design and implement in Python a set of CBFs initialized at a given false positive rate, and will need to summarize your findings in a report. A report structured has been provided for you in the form of enumerated tasks, which you should follow.\n",
    " \n",
    " ## Intended Style and Key Audience\n",
    " \n",
    "Your report needs to be written in the style of a chapter from the Cormen textbook (i.e., exhibiting academic rigor and clear explanations) or a Wikipedia page on the subject (i.e., a general overview on a topic that will be peer-reviewed by the world-wide community). Thus, with a beginner’s audience in mind, your report needs to: \n",
    "\n",
    "* Carefully explain the concepts of a CBFs, \n",
    "* Include details on your CBFs design, \n",
    "* Perform an analysis of your implementation and experimental results pertaining to your Python implementation and \n",
    "* Perform a critical comparison analysis between the experimental results and the theoretically predicted ones. \n",
    "* Use the provided code cells to include all your code, and if these are not enough, please add more cells which you deem necessary.\n",
    "* Use the same function names provided in the template. \n",
    "* Thoroughly describe the algorithmic strategies you are employing in a given question. To do so, feel free to include extra Markdown cells whenever relevant--you may find this [how-to-guide](https://medium.com/analytics-vidhya/the-ultimate-markdown-guide-for-jupyter-notebook-d5e5abf728fd) helpful. \n",
    "\n",
    "Make sure you properly cite your sources of information. \n",
    "\n",
    "## Notes on the Submission Materials\n",
    "\n",
    "1. Your **first resource** should be a PDF file created from the Jupyter notebook template provided in these instructions. If your name is “Dumbledore”, your PDF should be named “Dumbledore.pdf”.\n",
    "2. Your **second resource** must be a single Jupyter Notebook named “Dumbledore.ipynb”. Alternatively, you can also submit a zip file that includes your Jupyter notebook, but please make sure to name it “Dumbledore.zip” (if your name is Dumbledore, the Jupyter notebook submitted as part of such zip file should still be named “Dumbledore.ipynb”!).\n",
    "\n",
    "## Notes on the Grading Rubrics\n",
    "\n",
    "* This is a strictly individual assignment. Everything you submit must reflect your own writing and coding. Please do refer to the course guidelines on the syllabus namely in what constitutes plagiarism. \n",
    "* All the tasks will be graded on the indicated companion LOs; please make sure to consult their descriptions and rubrics in the course syllabus to maximally align your approach to them. You will not be penalized for not attempting the optional challenge.\n",
    "* As per the course’s policy on the syllabus, you will need to footnote **at least three HCs** by including a meaningful justification of the application of each HC and how they enabled you to complete part of your work on this assignment. Please refer to [these guidelines](https://docs.google.com/document/d/1s7yOVOtMIaHQdKLeRmZbq1gRqwJKfezBsfru9Q6PcHw/edit) on how to incorporate HCs in your work.\n",
    "\n",
    "## Report Structured Tasks\n",
    "\n",
    "### Task 1. [#responsibility] [appropriate LO for the make-up work] \n",
    "\n",
    "Take a screenshot of your CS110 dashboard on Forum where the following is visible: \n",
    "* your name. \n",
    "* your absences for the course have been set to excused up to the end of week 7 (inclusively). Submit this screenshot as a PNG file on your Jupyter notebook. "
   ]
  },
  {
   "cell_type": "code",
   "execution_count": null,
   "metadata": {
    "deletable": false,
    "nbgrader": {
     "checksum": "128ce1269093d9e434af0c39cae9cdae",
     "grade": true,
     "grade_id": "cell-bc6c759845183c37",
     "locked": false,
     "points": 0,
     "schema_version": 1,
     "solution": true
    }
   },
   "outputs": [],
   "source": [
    "from IPython.display import Image\n",
    "Image(filename=\"Dashboard Week 7.png\")"
   ]
  },
  {
   "cell_type": "markdown",
   "metadata": {
    "deletable": false,
    "editable": false,
    "nbgrader": {
     "checksum": "8469a85198e41dc824049110ffbbc6f3",
     "grade": false,
     "grade_id": "cell-a9085d1cfd0bf0e1",
     "locked": true,
     "schema_version": 1,
     "solution": false
    }
   },
   "source": [
    "### Task 2.  [#ComputationalSolutions, #DataStructures, #ComplexityAnalysis]  \n",
    "\n",
    "Write a summary  of the CBFs as an indexing technique, with their underlying data structure and  hashing functionality. This is,  list all the operations they support. For all CBF operations, include an analysis of their asymptotic order growth (complexity analysis). Give a few examples of practical, real-life computational applications that can benefit from using CBFs and carefully justify why. "
   ]
  },
  {
   "cell_type": "markdown",
   "metadata": {
    "deletable": false,
    "nbgrader": {
     "checksum": "89b640ab4f7518099d2ca503738991ab",
     "grade": true,
     "grade_id": "cell-b0a98c487d3be44b",
     "locked": false,
     "points": 0,
     "schema_version": 1,
     "solution": true
    }
   },
   "source": [
    "__Summary of CBFs as an indexing technique: underlying data structure and hashing functionality__"
   ]
  },
  {
   "cell_type": "markdown",
   "metadata": {},
   "source": [
    "Counting Bloom Filters (CBFs) can be described as an extension of bloom filters (BFs).\n",
    "\n",
    "Bloom filters use hash tables (which can be implemented using an array, linked lists, or a defined class) as their underlying structure.  They use many hash functions to map an element as a composition of binary values into multiple keys.  For example, my name \"Magali\" might, according to 3 defined hash functions, correspond to the indeces/addresses 4, 5, and 33. Hence, with this input, the CBF's binary hash table will have the indeces 4, 5, and 33, be marked as 1. (And, if this was the first value inscribed, all the others would be marked as 0.) \n",
    "\n",
    "Consequently, a value can be broken down into a set of keys whose corresponding indeces are then marked as 1 in the hash table.  \n",
    "\n",
    "Keeping this in mind, to check if a value is present in the set, the algorithm checks for a 1 in each key inputted into the hash function.  If one of the corresponding indeces (outputted by the hash function) is not set to 1, but rather correspond to 0, then the value is for sure not present in the set.  If all the indices/addresses corresponding to the keys are set to 1, then it is possible that the value is present (though not necessarily certain because the 1s might come from the mapping of a combination of other inputs).  In other words, BFs will never return false negatives, though false positives are possible.\n",
    "\n",
    "How do CBFs differ from BFs?\n",
    "\n",
    "Instead of operating with binary values, CBFs use counters. Every slot in the hash table, instead of containing 0 or 1, contains an integer corresponding to the number of times this index / address was outputted by a hash function when inputting a key to map a value.\n",
    "\n",
    "This allows us to insert and delete values. The underlying principle of checking whether a value is present or not stays consistent with the description of BFs."
   ]
  },
  {
   "cell_type": "markdown",
   "metadata": {},
   "source": [
    "__Operations supported & their asymptotic order of growth (complexity analysis)__"
   ]
  },
  {
   "cell_type": "markdown",
   "metadata": {},
   "source": [
    "- Checking whether present (establishes whether an element is possibly included): constant time: O(1) \n",
    "\n",
    "- Insertion (inserts a string to the CBF): O(1)\n",
    "\n",
    "- Deletion (deletes a string from the CBF): O(1)\n",
    "\n",
    "(Ficara et al., 2006)"
   ]
  },
  {
   "cell_type": "markdown",
   "metadata": {},
   "source": [
    "__Practical applications__"
   ]
  },
  {
   "cell_type": "markdown",
   "metadata": {},
   "source": [
    "CBFs can be used for any problems for which we want to make sure not to have false negatives (but are okay with having false positives) and need relatively quick feedback (made possible by CBFs' constant time). \n",
    "\n",
    "Some examples of practical applications include:"
   ]
  },
  {
   "cell_type": "markdown",
   "metadata": {},
   "source": [
    "_Banning malicious websites from the web._  We can use CBFs to check if a web address is malicious. If we know for sure that the address is not in the \"malicious addresses\" database that we have, then the server can connect without issues. Otherwise, our browser can advise not to continue to the address."
   ]
  },
  {
   "cell_type": "markdown",
   "metadata": {},
   "source": [
    "_Checking whether a student has NOT spoken while in class on the Forum._ At Minerva, our platform The Forum keeps track of the students' participation. Considering the model of Minerva's classes, it's very important for the students who have not talked to do so. If their name is not mapped in the indeces of the CBF keeping track of students' speaking, then The Forum knows for sure the student has NOT spoken. The student's box should be marked as red and the Professor consequently knows to call on them, maximing participation and learning.  "
   ]
  },
  {
   "cell_type": "markdown",
   "metadata": {},
   "source": [
    "### Task 3. [#DataStructures, #PythonProgramming, #CodeReadability] \n",
    "\n",
    "Implement in Python 3 your designed CBFs data structure and all its operations using the code template below. Make sure you carefully organize your Python code, write meaningful comments (feel free to use [docstrings](https://www.python.org/dev/peps/pep-0257/)), and provide a thorough justification for your choice of hash functions. \n",
    "\n",
    "If you decide to use the Python library  `mmh3`,  you will need to provide a thorough explanation of why you have chosen the hashing functions therein. You may also use  `numpy`, `matplotlib`, `random`, `statistics`, and `math`. If you plan to use any other external library not mentioned in this list, you will need to contact your instructor first for validation.\n",
    "\n",
    "Make sure to strictly follow the honor code as any plagiarism attempt will be referred to the ASC. Please refer to [resource1](https://new.library.arizona.edu/research/citing/plagiarism) and [resource2](https://poorvucenter.yale.edu/writing/using-sources/understanding-and-avoiding-plagiarism/what-plagiarism), which specify what constitutes plagiarism. \n",
    "\n",
    "Demonstrate how your code works by inserting a list of words in [Shakespeare’s works](https://ocw.mit.edu/ans7870/6/6.006/s08/lecturenotes/files/t8.shakespeare.txt). The following lines of code will create such a list of words in Python:\n",
    "\n",
    "```python\n",
    "txt_file = open(\"t8.shakespeare.txt\", \"r\")\n",
    "\n",
    "entries = txt_file.read().split(' ')\n",
    "lines = [string.replace('\\n', '') for string in entries]\n",
    "all_text = [line for line in lines if line != '']\n",
    "```\n",
    "\n",
    "Feel free to use another interesting dataset for further validation, but this is optional."
   ]
  },
  {
   "cell_type": "markdown",
   "metadata": {},
   "source": [
    "Below, I use the Python library hashlib to obtain my hash functions. As we saw in class 7.1, it is hard to have a good-performing hash function.  The hash function in this hashlib package have been developed by experts and tested on large sets of data (keys).  They are guaranteed to be good hash functions, unlike ones I might come up with, hence my reliance on them. What do I mean by good?\n",
    "\n",
    "(1) They likely satisfy the assumption of simple uniform hashing. Each hash function output is as close to random (though deterministically) as possible. This reduces the mapping of the keys to the same indexes, increasing the chances that the element is really there when the search() function returns True (or has found all the hash values for the key). \n",
    "\n",
    "(2) They are efficient. They arrive at the hash value in a non-redundant manner.\n",
    "\n",
    "With these criterions satisfied, I can rest assured that the CBF will have close-to-ideal i.e. reliable hash function outputs. "
   ]
  },
  {
   "cell_type": "markdown",
   "metadata": {},
   "source": [
    "##### Building a class of CountingBloomFilter"
   ]
  },
  {
   "cell_type": "code",
   "execution_count": 1,
   "metadata": {},
   "outputs": [],
   "source": [
    "# Import relevant library\n",
    "import math\n",
    "import hashlib"
   ]
  },
  {
   "cell_type": "code",
   "execution_count": 2,
   "metadata": {},
   "outputs": [],
   "source": [
    "class CountingBloomFilter(object):\n",
    "    \"\"\"Implements the counting bloom filter which supports:\n",
    "    - search: queries the membership of an element\n",
    "    - insert: inserts a string to the filter\n",
    "    - delete: removes a string from the filter \n",
    "    \"\"\"\n",
    "    \n",
    "    \n",
    "    def __init__(self, fpr, num_item):\n",
    "        \"\"\"\n",
    "        Defines the following parameters of a CBF:\n",
    "        - fpr: float, false positive rate\n",
    "        - memory_size: int, memory size\n",
    "        - num_item: int, number of items stored\n",
    "        - num_hashfn: int, number of hash functions\n",
    "        - \n",
    "        - storage: list, stores hash function values \n",
    "                   i.e.  the hash table / CBF\n",
    "        \"\"\"\n",
    "        \n",
    "        # Chosen arguments are false positive rate & number of items\n",
    "        self.fpr = fpr # false positive rate\n",
    "        if num_item == 0:\n",
    "            raise ValueError(\"There must be at least one element that will be stored to create a CBF.\")\n",
    "        self.num_item = num_item # number of items\n",
    "        \n",
    "        # Define the \"memory\" size (bits) needed\n",
    "        # a function of the false positive rate and the number of items\n",
    "        memory_size = -1*round((self.num_item * math.log(self.fpr))/(math.log(2))**2)\n",
    "        # Reference for above formula: (Boyd, 2014)\n",
    "        # https://stackoverflow.com/questions/658439/how-many-hash-functions-does-my-bloom-filter-need\n",
    "        self.memory_size = memory_size # in bits\n",
    "        self.storage_length = self.memory_size\n",
    "        ## Convert memory size (bits) to size of list required\n",
    "        # self.storage_length = round(memory_size/32) # assuming an integer is 32 bits        \n",
    "        # Create the corresponding list initiated with 0s\n",
    "        self.storage = [0] * self.storage_length\n",
    "        \n",
    "        # Define the number of hash functions needed\n",
    "        # to obtain the false positive rate \n",
    "        # given the number of items and memory size\n",
    "        num_hashfn = round(self.memory_size / self.num_item * math.log(2))\n",
    "        # Reference for above formula: (Boyd, 2014)\n",
    "        # https://stackoverflow.com/questions/658439/how-many-hash-functions-does-my-bloom-filter-need\n",
    "        self.num_hashfn = num_hashfn\n",
    "        # Check that it's within bounds of CBF i.e. more than 1 \n",
    "        # and available predefined hash functions i.e. less than 8\n",
    "        if self.num_hashfn < 1:\n",
    "            self.num_hashfn = 1\n",
    "            print(\"Recalibrated number of hash functions needed to 1.\")\n",
    "        if self.num_hashfn > 5:\n",
    "            self.num_hashfn = 5\n",
    "            print(\"Recalibrated number of hash functions needed to 5.\")\n",
    "        # Create corresponding hash functions\n",
    "        hash_funs = []\n",
    "        self.hash_funs = self.set_hash_funs(self.num_hashfn)\n",
    "    \n",
    "    \n",
    "    def set_hash_funs(self, num):\n",
    "        \"\"\"\n",
    "        Creates/gets required number of hash functions\n",
    "        \"\"\"\n",
    "    \n",
    "        # list to collect functions\n",
    "        hash_funs = [hashlib.sha1] # populate with first hash function\n",
    "        # Reference for collecting functions in a list:\n",
    "        # https://stackoverflow.com/questions/27472704/store-functions-in-list-and-call-them-later\n",
    "        # Add number of required hash functions\n",
    "        if num >= 2:\n",
    "            hash_funs.append(hashlib.sha384)\n",
    "        if num >= 3:\n",
    "            hash_funs.append(hashlib.sha224)\n",
    "        if num >= 4:\n",
    "            hash_funs.append(hashlib.sha256)\n",
    "        if num >= 5:\n",
    "            hash_funs.append(hashlib.sha512)\n",
    "        #if num >= 6:\n",
    "            #hash_funs.append(hashlib.sha384)\n",
    "        #if num >= 7:\n",
    "            #hash_funs.append(hashlib.blake2b)\n",
    "        #if num >= 8:\n",
    "            #hash_funs.append(hashlib.blake2s)\n",
    "        # Reference for above functions' availability:\n",
    "        # https://docs.python.org/3/library/hashlib.html \n",
    "       \n",
    "        return hash_funs\n",
    "\n",
    "    \n",
    "    def hash_cbf(self, item):\n",
    "        \"\"\"\n",
    "        Returns hash values of an item\n",
    "        using hash functions\n",
    "        \"\"\"\n",
    "        if type(item) == str:\n",
    "            item = item.encode('utf-8')\n",
    "        \n",
    "        hash_lst = [] # list of hash values\n",
    "        \n",
    "        # go through all hash functions\n",
    "        for i in range(0, len(self.hash_funs)): \n",
    "            # retrieve hash function \n",
    "            hash_fun = self.hash_funs[i] \n",
    "            # use hash function\n",
    "            hash_val = hash_fun(item)\n",
    "            # print(hash_val)\n",
    "            # convert hash value to integers\n",
    "            hash_idx = int(hash_val.hexdigest(), 16)\n",
    "            # print(hash_idx)\n",
    "            # print(self.storage_length)\n",
    "            idx = int(hash_idx % self.storage_length)\n",
    "            # print(idx)\n",
    "            # append returned value from hash function\n",
    "            hash_lst.append(idx) \n",
    "        return hash_lst # return list of hash values \n",
    "    \n",
    "        \n",
    "    def search(self, item):\n",
    "        \"\"\"\n",
    "        States whether an element exists\n",
    "        Returns boolean:\n",
    "        True = possibly exists\n",
    "        False = for sure does not exist\n",
    "        \"\"\"\n",
    "           \n",
    "        exists = True\n",
    "        # a CBF returns false positives \n",
    "        # but never false negatives\n",
    "        \n",
    "        # obtain elements's corresponding hash values\n",
    "        h_values = self.hash_cbf(item)\n",
    "        \n",
    "        # go through the CBF \n",
    "        # and check corresponding hash values\n",
    "        for i in h_values:\n",
    "            # print(\"Checking keys.\")\n",
    "            # if corresponding hash value isn't marked\n",
    "            # print(self.storage[i])\n",
    "            if self.storage[i] == 0: \n",
    "                # element does not exist\n",
    "                exists = False\n",
    "                print(\"Element\", item, \"does not exist here.\")\n",
    "                return exists\n",
    "        if exists:\n",
    "            print(\"Element\", item, \"might exist here.\")\n",
    "            \n",
    "        return exists\n",
    "       \n",
    "        \n",
    "    def insert(self, item):\n",
    "        \"\"\"\n",
    "        Adds an element to the CBF\n",
    "        by adding its corresponding hash values \n",
    "        \"\"\"\n",
    "        \n",
    "        # obtain elements's corresponding hash values\n",
    "        h_values = self.hash_cbf(item)\n",
    "        \n",
    "        # add 1 to each index corresponding to the hash value\n",
    "        for i in h_values:\n",
    "            self.storage[i] += 1 \n",
    "      \n",
    "    \n",
    "    def delete(self, item):\n",
    "        \"\"\"\n",
    "        Removes an element from the CBF\n",
    "        by subtracting its corresponding hash values\n",
    "        \"\"\"\n",
    "        \n",
    "        # obtain elements's corresponding hash values\n",
    "        h_values = self.hash_cbf(item)\n",
    "        \n",
    "        # check if element exists\n",
    "        exist = self.search(item)\n",
    "        \n",
    "        # if it exists, remove each corresponding hash value\n",
    "        if exist: \n",
    "            for i in h_values:\n",
    "                self.storage[i] -= 1 \n",
    "            print(\"Element\", item, \"deleted.\")\n",
    "        else:\n",
    "            print(\"No need to delete the element:\", item, \". It does not exist in the CBF.\")          "
   ]
  },
  {
   "cell_type": "markdown",
   "metadata": {},
   "source": [
    "##### Demonstrating how my code works"
   ]
  },
  {
   "cell_type": "code",
   "execution_count": 3,
   "metadata": {},
   "outputs": [],
   "source": [
    "txt_file = open(\"t8.shakespeare.txt\", \"r\")\n",
    "\n",
    "entries = txt_file.read().split(' ')\n",
    "lines = [string.replace('\\n', '') for string in entries]\n",
    "all_text = [line for line in lines if line != '']\n",
    "# all_text = [line.encode('utf-8') for line in lines] "
   ]
  },
  {
   "cell_type": "code",
   "execution_count": 4,
   "metadata": {},
   "outputs": [
    {
     "name": "stdout",
     "output_type": "stream",
     "text": [
      "Recalibrated number of hash functions needed to 5.\n",
      "Element jdfhjhsdhjkshjhfds does not exist here.\n",
      "Element This might exist here.\n",
      "Element This deleted.\n",
      "Element the might exist here.\n",
      "Element the deleted.\n"
     ]
    }
   ],
   "source": [
    "# Create a CBF\n",
    "test_CBF = CountingBloomFilter(0.01, 3)\n",
    "\n",
    "# Insert test elements\n",
    "test_CBF.insert(all_text[2])\n",
    "test_CBF.insert(all_text[1])\n",
    "test_CBF.insert(all_text[0])\n",
    "\n",
    "# Try to find test elements\n",
    "test_CBF.search('jdfhjhsdhjkshjhfds')\n",
    "test_CBF.delete('This')\n",
    "test_CBF.delete(all_text[2])"
   ]
  },
  {
   "cell_type": "code",
   "execution_count": 5,
   "metadata": {},
   "outputs": [
    {
     "name": "stdout",
     "output_type": "stream",
     "text": [
      "Recalibrated number of hash functions needed to 5.\n",
      "Element This might exist here.\n",
      "Element Shakespeare might exist here.\n",
      "Element fmdnjjshh does not exist here.\n",
      "Element Shakespeare might exist here.\n",
      "Element Shakespeare deleted.\n",
      "Element is might exist here.\n",
      "Element is deleted.\n"
     ]
    }
   ],
   "source": [
    "# Create a CBF\n",
    "test_CBF = CountingBloomFilter(0.01, len(all_text))\n",
    "\n",
    "# Insert test elements\n",
    "[test_CBF.insert(word) for word in all_text]\n",
    "\n",
    "# Try to find test elements\n",
    "test_CBF.search('This')\n",
    "test_CBF.search('Shakespeare')\n",
    "test_CBF.search('fmdnjjshh')\n",
    "test_CBF.delete('Shakespeare')\n",
    "test_CBF.delete('is')"
   ]
  },
  {
   "cell_type": "markdown",
   "metadata": {
    "deletable": false,
    "editable": false,
    "nbgrader": {
     "checksum": "e80f94d7ec5e70f525c050d9abd6a418",
     "grade": false,
     "grade_id": "cell-55313f6a52567abd",
     "locked": true,
     "schema_version": 1,
     "solution": false
    }
   },
   "source": [
    "### Task 4 [#ComplexityAnalysis, #ComputationalCritique].\n",
    "\n",
    "Now you will verify the effectiveness of your CBF implementation by testing how well the implementation matches or diverges from the theoretical findings. The following tasks will help you make this computational analysis. Explicitly include any assumptions you have made to arrive at your results. If there are any discrepancies between the theory and the computational experiments, provide an explanation for these.\n",
    "\n",
    "1. [#DataStructures] Create several CBFs (at least 10) for different FPRs, and evaluate how the memory size scales with the FPR. \n",
    "2. [#DataStructures] How does the memory size scale with the number of items stored, for a fixed FPR?\n",
    "3. [#DataStructures, #ComplexityAnalysis] How does the actual FPR scale with the number of hash functions?\n",
    "4. [#DataStructures, #ComplexityAnalysis] How does the access time to hashed values scale with the number of items stored in a CBF kept at constant FPR?\n"
   ]
  },
  {
   "cell_type": "markdown",
   "metadata": {},
   "source": [
    "1. Theoretical findings.\n",
    "2. Experimental findings.\n",
    "3. Assumptions to arrive at result.\n",
    "3. Explanation for discrepancy between 1. and 2.  "
   ]
  },
  {
   "cell_type": "code",
   "execution_count": 6,
   "metadata": {},
   "outputs": [],
   "source": [
    "import matplotlib.pyplot as plt"
   ]
  },
  {
   "cell_type": "markdown",
   "metadata": {
    "deletable": false,
    "nbgrader": {
     "checksum": "f454ec05ad12849a094bb2017f596b7c",
     "grade": true,
     "grade_id": "cell-a1db8a260a21986a",
     "locked": false,
     "points": 0,
     "schema_version": 1,
     "solution": true
    }
   },
   "source": [
    "__1. [#DataStructures] Create several CBFs (at least 10) for different FPRs, and evaluate how the memory size scales with the FPR.__ \n"
   ]
  },
  {
   "cell_type": "code",
   "execution_count": 7,
   "metadata": {},
   "outputs": [],
   "source": [
    "x = []\n",
    "y = []\n",
    "\n",
    "def create_CBF(fpr):\n",
    "    \"\"\"\n",
    "    Creates a CBF with requested \n",
    "    false positive rate and \n",
    "    number of items in Shakespeare text\n",
    "    \"\"\"\n",
    "    \n",
    "    # create the instance of the CBF\n",
    "    CBF = CountingBloomFilter(fpr, len(all_text))\n",
    "    # cbtain memory size \n",
    "    print(\"With\", len(all_text), \"items and a false positive rate of\", fpr, \"the created CBF memory size is:\", CBF.memory_size, 'bits.')\n",
    "    # add values to lists for later graphing\n",
    "    x.append(fpr)\n",
    "    y.append(CBF.memory_size)\n",
    "    \n",
    "    return CBF"
   ]
  },
  {
   "cell_type": "code",
   "execution_count": 8,
   "metadata": {},
   "outputs": [
    {
     "name": "stdout",
     "output_type": "stream",
     "text": [
      "Recalibrated number of hash functions needed to 5.\n",
      "With 896183 items and a false positive rate of 0.01 the created CBF memory size is: 8589966 bits.\n"
     ]
    }
   ],
   "source": [
    "CBF1 = create_CBF(0.01)"
   ]
  },
  {
   "cell_type": "code",
   "execution_count": 9,
   "metadata": {},
   "outputs": [
    {
     "name": "stdout",
     "output_type": "stream",
     "text": [
      "With 896183 items and a false positive rate of 0.2 the created CBF memory size is: 3002064 bits.\n"
     ]
    }
   ],
   "source": [
    "CBF2 = create_CBF(0.20)"
   ]
  },
  {
   "cell_type": "code",
   "execution_count": 10,
   "metadata": {},
   "outputs": [
    {
     "name": "stdout",
     "output_type": "stream",
     "text": [
      "Recalibrated number of hash functions needed to 5.\n",
      "With 896183 items and a false positive rate of 0.003 the created CBF memory size is: 10835722 bits.\n"
     ]
    }
   ],
   "source": [
    "CBF3 = create_CBF(0.003)"
   ]
  },
  {
   "cell_type": "code",
   "execution_count": 11,
   "metadata": {},
   "outputs": [
    {
     "name": "stdout",
     "output_type": "stream",
     "text": [
      "With 896183 items and a false positive rate of 0.4 the created CBF memory size is: 1709146 bits.\n"
     ]
    }
   ],
   "source": [
    "CBF4 = create_CBF(0.4)"
   ]
  },
  {
   "cell_type": "code",
   "execution_count": 12,
   "metadata": {},
   "outputs": [
    {
     "name": "stdout",
     "output_type": "stream",
     "text": [
      "With 896183 items and a false positive rate of 0.5 the created CBF memory size is: 1292919 bits.\n"
     ]
    }
   ],
   "source": [
    "CBF5 = create_CBF(0.50)"
   ]
  },
  {
   "cell_type": "code",
   "execution_count": 13,
   "metadata": {
    "scrolled": true
   },
   "outputs": [
    {
     "name": "stdout",
     "output_type": "stream",
     "text": [
      "Recalibrated number of hash functions needed to 5.\n",
      "With 896183 items and a false positive rate of 0.0006 the created CBF memory size is: 13837786 bits.\n"
     ]
    }
   ],
   "source": [
    "CBF6 = create_CBF(0.0006)"
   ]
  },
  {
   "cell_type": "code",
   "execution_count": 14,
   "metadata": {},
   "outputs": [
    {
     "name": "stdout",
     "output_type": "stream",
     "text": [
      "With 896183 items and a false positive rate of 0.7 the created CBF memory size is: 665301 bits.\n"
     ]
    }
   ],
   "source": [
    "CBF7 = create_CBF(0.70)"
   ]
  },
  {
   "cell_type": "code",
   "execution_count": 15,
   "metadata": {},
   "outputs": [
    {
     "name": "stdout",
     "output_type": "stream",
     "text": [
      "With 896183 items and a false positive rate of 0.08 the created CBF memory size is: 4711210 bits.\n"
     ]
    }
   ],
   "source": [
    "CBF8 = create_CBF(0.08)"
   ]
  },
  {
   "cell_type": "code",
   "execution_count": 16,
   "metadata": {
    "scrolled": true
   },
   "outputs": [
    {
     "name": "stdout",
     "output_type": "stream",
     "text": [
      "Recalibrated number of hash functions needed to 1.\n",
      "With 896183 items and a false positive rate of 0.99 the created CBF memory size is: 18747 bits.\n"
     ]
    }
   ],
   "source": [
    "CBF9 = create_CBF(0.99)"
   ]
  },
  {
   "cell_type": "code",
   "execution_count": 17,
   "metadata": {
    "scrolled": true
   },
   "outputs": [
    {
     "name": "stdout",
     "output_type": "stream",
     "text": [
      "Recalibrated number of hash functions needed to 1.\n",
      "With 896183 items and a false positive rate of 1.0 the created CBF memory size is: 0 bits.\n"
     ]
    }
   ],
   "source": [
    "CBF10 = create_CBF(1.0)"
   ]
  },
  {
   "cell_type": "code",
   "execution_count": 18,
   "metadata": {},
   "outputs": [
    {
     "data": {
      "text/plain": [
       "Text(0.5, 1.0, 'Experimental results:\\n memory size scaling with FPR')"
      ]
     },
     "execution_count": 18,
     "metadata": {},
     "output_type": "execute_result"
    },
    {
     "data": {
      "image/png": "[encoded data removed]",
      "text/plain": [
       "<Figure size 432x288 with 1 Axes>"
      ]
     },
     "metadata": {
      "needs_background": "light"
     },
     "output_type": "display_data"
    }
   ],
   "source": [
    "plt.plot(x, y, 'ro') \n",
    "plt.xlabel(\"FPR\")\n",
    "plt.ylabel(\"Memory size (bits)\")\n",
    "plt.title(\"Experimental results:\\n memory size scaling with FPR\")"
   ]
  },
  {
   "cell_type": "markdown",
   "metadata": {},
   "source": [
    "Theoretically, memory size should scale with the FPR in a manner that is exponentially decaying as defined by the below mathematical function:"
   ]
  },
  {
   "cell_type": "raw",
   "metadata": {},
   "source": [
    "memory_size = -1*round((self.num_item * math.log(self.fpr))/(math.log(2))**2)"
   ]
  },
  {
   "cell_type": "markdown",
   "metadata": {},
   "source": [
    "This is in accordance with the experimental results illustrated in the graph above."
   ]
  },
  {
   "cell_type": "markdown",
   "metadata": {},
   "source": [
    "__2. [#DataStructures] How does the memory size scale with the number of items stored, for a fixed FPR?__\n"
   ]
  },
  {
   "cell_type": "code",
   "execution_count": 19,
   "metadata": {},
   "outputs": [],
   "source": [
    "x = []\n",
    "y = []\n",
    "\n",
    "def create_CBF(num):\n",
    "    \"\"\"\n",
    "    Creates a CBF with requested \n",
    "    number of items and fixed\n",
    "    false positive rate\n",
    "    \"\"\"\n",
    "    \n",
    "    # create the instance of the CBF\n",
    "    CBF = CountingBloomFilter(0.2, num)\n",
    "    # obtain memory size \n",
    "    print(\"With\", num, \"items and a false positive rate of\", 0.2, \"the created CBF memory size is:\", CBF.memory_size, 'bits.')\n",
    "    # add values to lists for later graphing\n",
    "    x.append(num)\n",
    "    y.append(CBF.memory_size)\n",
    "    \n",
    "    return CBF"
   ]
  },
  {
   "cell_type": "code",
   "execution_count": 20,
   "metadata": {},
   "outputs": [
    {
     "ename": "ValueError",
     "evalue": "There must be at least one element that will be stored to create a CBF.",
     "output_type": "error",
     "traceback": [
      "\u001b[0;31m---------------------------------------------------------------------------\u001b[0m",
      "\u001b[0;31mValueError\u001b[0m                                Traceback (most recent call last)",
      "\u001b[0;32m<ipython-input-20-c530e63b9fb2>\u001b[0m in \u001b[0;36m<module>\u001b[0;34m\u001b[0m\n\u001b[0;32m----> 1\u001b[0;31m \u001b[0mCBF1\u001b[0m \u001b[0;34m=\u001b[0m \u001b[0mcreate_CBF\u001b[0m\u001b[0;34m(\u001b[0m\u001b[0;36m0\u001b[0m\u001b[0;34m)\u001b[0m\u001b[0;34m\u001b[0m\u001b[0;34m\u001b[0m\u001b[0m\n\u001b[0m",
      "\u001b[0;32m<ipython-input-19-26313b23e1d1>\u001b[0m in \u001b[0;36mcreate_CBF\u001b[0;34m(num)\u001b[0m\n\u001b[1;32m     10\u001b[0m \u001b[0;34m\u001b[0m\u001b[0m\n\u001b[1;32m     11\u001b[0m     \u001b[0;31m# create the instance of the CBF\u001b[0m\u001b[0;34m\u001b[0m\u001b[0;34m\u001b[0m\u001b[0;34m\u001b[0m\u001b[0m\n\u001b[0;32m---> 12\u001b[0;31m     \u001b[0mCBF\u001b[0m \u001b[0;34m=\u001b[0m \u001b[0mCountingBloomFilter\u001b[0m\u001b[0;34m(\u001b[0m\u001b[0;36m0.2\u001b[0m\u001b[0;34m,\u001b[0m \u001b[0mnum\u001b[0m\u001b[0;34m)\u001b[0m\u001b[0;34m\u001b[0m\u001b[0;34m\u001b[0m\u001b[0m\n\u001b[0m\u001b[1;32m     13\u001b[0m     \u001b[0;31m# obtain memory size\u001b[0m\u001b[0;34m\u001b[0m\u001b[0;34m\u001b[0m\u001b[0;34m\u001b[0m\u001b[0m\n\u001b[1;32m     14\u001b[0m     \u001b[0mprint\u001b[0m\u001b[0;34m(\u001b[0m\u001b[0;34m\"With\"\u001b[0m\u001b[0;34m,\u001b[0m \u001b[0mnum\u001b[0m\u001b[0;34m,\u001b[0m \u001b[0;34m\"items and a false positive rate of\"\u001b[0m\u001b[0;34m,\u001b[0m \u001b[0;36m0.2\u001b[0m\u001b[0;34m,\u001b[0m \u001b[0;34m\"the created CBF memory size is:\"\u001b[0m\u001b[0;34m,\u001b[0m \u001b[0mCBF\u001b[0m\u001b[0;34m.\u001b[0m\u001b[0mmemory_size\u001b[0m\u001b[0;34m,\u001b[0m \u001b[0;34m'bits.'\u001b[0m\u001b[0;34m)\u001b[0m\u001b[0;34m\u001b[0m\u001b[0;34m\u001b[0m\u001b[0m\n",
      "\u001b[0;32m<ipython-input-2-e3e8f80ab1a5>\u001b[0m in \u001b[0;36m__init__\u001b[0;34m(self, fpr, num_item)\u001b[0m\n\u001b[1;32m     22\u001b[0m         \u001b[0mself\u001b[0m\u001b[0;34m.\u001b[0m\u001b[0mfpr\u001b[0m \u001b[0;34m=\u001b[0m \u001b[0mfpr\u001b[0m \u001b[0;31m# false positive rate\u001b[0m\u001b[0;34m\u001b[0m\u001b[0;34m\u001b[0m\u001b[0m\n\u001b[1;32m     23\u001b[0m         \u001b[0;32mif\u001b[0m \u001b[0mnum_item\u001b[0m \u001b[0;34m==\u001b[0m \u001b[0;36m0\u001b[0m\u001b[0;34m:\u001b[0m\u001b[0;34m\u001b[0m\u001b[0;34m\u001b[0m\u001b[0m\n\u001b[0;32m---> 24\u001b[0;31m             \u001b[0;32mraise\u001b[0m \u001b[0mValueError\u001b[0m\u001b[0;34m(\u001b[0m\u001b[0;34m\"There must be at least one element that will be stored to create a CBF.\"\u001b[0m\u001b[0;34m)\u001b[0m\u001b[0;34m\u001b[0m\u001b[0;34m\u001b[0m\u001b[0m\n\u001b[0m\u001b[1;32m     25\u001b[0m         \u001b[0mself\u001b[0m\u001b[0;34m.\u001b[0m\u001b[0mnum_item\u001b[0m \u001b[0;34m=\u001b[0m \u001b[0mnum_item\u001b[0m \u001b[0;31m# number of items\u001b[0m\u001b[0;34m\u001b[0m\u001b[0;34m\u001b[0m\u001b[0m\n\u001b[1;32m     26\u001b[0m \u001b[0;34m\u001b[0m\u001b[0m\n",
      "\u001b[0;31mValueError\u001b[0m: There must be at least one element that will be stored to create a CBF."
     ]
    }
   ],
   "source": [
    "CBF1 = create_CBF(0)"
   ]
  },
  {
   "cell_type": "code",
   "execution_count": 21,
   "metadata": {
    "scrolled": true
   },
   "outputs": [
    {
     "name": "stdout",
     "output_type": "stream",
     "text": [
      "With 1 items and a false positive rate of 0.2 the created CBF memory size is: 3 bits.\n"
     ]
    }
   ],
   "source": [
    "CBF2 = create_CBF(1)"
   ]
  },
  {
   "cell_type": "code",
   "execution_count": 22,
   "metadata": {},
   "outputs": [
    {
     "name": "stdout",
     "output_type": "stream",
     "text": [
      "With 2 items and a false positive rate of 0.2 the created CBF memory size is: 7 bits.\n"
     ]
    }
   ],
   "source": [
    "CBF3 = create_CBF(2)"
   ]
  },
  {
   "cell_type": "code",
   "execution_count": 23,
   "metadata": {},
   "outputs": [
    {
     "name": "stdout",
     "output_type": "stream",
     "text": [
      "With 10 items and a false positive rate of 0.2 the created CBF memory size is: 33 bits.\n"
     ]
    }
   ],
   "source": [
    "CBF4 = create_CBF(10)"
   ]
  },
  {
   "cell_type": "code",
   "execution_count": 24,
   "metadata": {},
   "outputs": [
    {
     "name": "stdout",
     "output_type": "stream",
     "text": [
      "With 50 items and a false positive rate of 0.2 the created CBF memory size is: 167 bits.\n"
     ]
    }
   ],
   "source": [
    "CBF5 = create_CBF(50)"
   ]
  },
  {
   "cell_type": "code",
   "execution_count": 25,
   "metadata": {},
   "outputs": [
    {
     "name": "stdout",
     "output_type": "stream",
     "text": [
      "With 100 items and a false positive rate of 0.2 the created CBF memory size is: 335 bits.\n"
     ]
    }
   ],
   "source": [
    "CBF6 = create_CBF(100)"
   ]
  },
  {
   "cell_type": "code",
   "execution_count": 26,
   "metadata": {},
   "outputs": [
    {
     "name": "stdout",
     "output_type": "stream",
     "text": [
      "With 1000 items and a false positive rate of 0.2 the created CBF memory size is: 3350 bits.\n"
     ]
    }
   ],
   "source": [
    "CBF7 = create_CBF(1000)"
   ]
  },
  {
   "cell_type": "code",
   "execution_count": 27,
   "metadata": {},
   "outputs": [
    {
     "name": "stdout",
     "output_type": "stream",
     "text": [
      "With 10000 items and a false positive rate of 0.2 the created CBF memory size is: 33498 bits.\n"
     ]
    }
   ],
   "source": [
    "CBF8 = create_CBF(10000)"
   ]
  },
  {
   "cell_type": "code",
   "execution_count": 28,
   "metadata": {},
   "outputs": [
    {
     "name": "stdout",
     "output_type": "stream",
     "text": [
      "With 100000 items and a false positive rate of 0.2 the created CBF memory size is: 334983 bits.\n"
     ]
    }
   ],
   "source": [
    "CBF9 = create_CBF(100000)"
   ]
  },
  {
   "cell_type": "code",
   "execution_count": 29,
   "metadata": {
    "scrolled": true
   },
   "outputs": [
    {
     "name": "stdout",
     "output_type": "stream",
     "text": [
      "With 1000000 items and a false positive rate of 0.2 the created CBF memory size is: 3349834 bits.\n"
     ]
    }
   ],
   "source": [
    "CBF10 = create_CBF(1000000)"
   ]
  },
  {
   "cell_type": "code",
   "execution_count": 30,
   "metadata": {},
   "outputs": [
    {
     "data": {
      "text/plain": [
       "Text(0.5, 1.0, 'Experimental results:\\n memory size scaling with number of items stored')"
      ]
     },
     "execution_count": 30,
     "metadata": {},
     "output_type": "execute_result"
    },
    {
     "data": {
      "image/png": "[encoded data removed]",
      "text/plain": [
       "<Figure size 432x288 with 1 Axes>"
      ]
     },
     "metadata": {
      "needs_background": "light"
     },
     "output_type": "display_data"
    }
   ],
   "source": [
    "plt.plot(x, y, 'ro') \n",
    "plt.xlabel(\"Number of items stored\")\n",
    "plt.ylabel(\"Memory size (bits)\")\n",
    "plt.title(\"Experimental results:\\n memory size scaling with number of items stored\")"
   ]
  },
  {
   "cell_type": "markdown",
   "metadata": {},
   "source": [
    "Theoretically, memory size should scale with the number of items stored in a linear manner as defined by the below mathematical function:"
   ]
  },
  {
   "cell_type": "raw",
   "metadata": {},
   "source": [
    "memory_size = -1*round((self.num_item * math.log(self.fpr))/(math.log(2))**2)"
   ]
  },
  {
   "cell_type": "markdown",
   "metadata": {},
   "source": [
    "This is in accordance with the experimental results illustrated in the graph above."
   ]
  },
  {
   "cell_type": "markdown",
   "metadata": {},
   "source": [
    "__3. [#DataStructures, #ComplexityAnalysis] How does the actual FPR scale with the number of hash functions?__"
   ]
  },
  {
   "cell_type": "code",
   "execution_count": 31,
   "metadata": {},
   "outputs": [],
   "source": [
    "x = []\n",
    "y = []\n",
    "\n",
    "def create_CBF(fpr):\n",
    "    \"\"\"\n",
    "    Creates a CBF with requested \n",
    "    false positive rate and \n",
    "    number of items in Shakespeare text\n",
    "    \"\"\"\n",
    "    length = 1000\n",
    "    \n",
    "    # create the instance of the CBF\n",
    "    CBF = CountingBloomFilter(fpr, length)\n",
    "    # obtain memory size \n",
    "    print(\"With\", length, \"items and a false positive rate of\", fpr, \"the number of hash functions is:\", len(CBF.hash_funs), '.')\n",
    "    # add to lists for later graphing\n",
    "    x.append(len(CBF.hash_funs))\n",
    "    y.append(fpr)\n",
    "    \n",
    "    return CBF "
   ]
  },
  {
   "cell_type": "code",
   "execution_count": 32,
   "metadata": {},
   "outputs": [
    {
     "name": "stdout",
     "output_type": "stream",
     "text": [
      "Recalibrated number of hash functions needed to 5.\n",
      "With 1000 items and a false positive rate of 1e-05 the number of hash functions is: 5 .\n"
     ]
    }
   ],
   "source": [
    "CBF11 = create_CBF(0.00001)"
   ]
  },
  {
   "cell_type": "code",
   "execution_count": 33,
   "metadata": {},
   "outputs": [
    {
     "name": "stdout",
     "output_type": "stream",
     "text": [
      "Recalibrated number of hash functions needed to 5.\n",
      "With 1000 items and a false positive rate of 0.001 the number of hash functions is: 5 .\n"
     ]
    }
   ],
   "source": [
    "CBF12 = create_CBF(0.001)"
   ]
  },
  {
   "cell_type": "code",
   "execution_count": 34,
   "metadata": {},
   "outputs": [
    {
     "name": "stdout",
     "output_type": "stream",
     "text": [
      "Recalibrated number of hash functions needed to 5.\n",
      "With 1000 items and a false positive rate of 0.01 the number of hash functions is: 5 .\n"
     ]
    }
   ],
   "source": [
    "CBF13 = create_CBF(0.01)"
   ]
  },
  {
   "cell_type": "code",
   "execution_count": 35,
   "metadata": {},
   "outputs": [
    {
     "name": "stdout",
     "output_type": "stream",
     "text": [
      "Recalibrated number of hash functions needed to 5.\n",
      "With 1000 items and a false positive rate of 0.02 the number of hash functions is: 5 .\n"
     ]
    }
   ],
   "source": [
    "CBF14 = create_CBF(0.02)"
   ]
  },
  {
   "cell_type": "code",
   "execution_count": 36,
   "metadata": {
    "scrolled": true
   },
   "outputs": [
    {
     "name": "stdout",
     "output_type": "stream",
     "text": [
      "With 1000 items and a false positive rate of 0.0222 the number of hash functions is: 5 .\n"
     ]
    }
   ],
   "source": [
    "CBF15 = create_CBF(0.0222)"
   ]
  },
  {
   "cell_type": "code",
   "execution_count": 37,
   "metadata": {},
   "outputs": [
    {
     "name": "stdout",
     "output_type": "stream",
     "text": [
      "Recalibrated number of hash functions needed to 5.\n",
      "With 1000 items and a false positive rate of 0.0221 the number of hash functions is: 5 .\n"
     ]
    }
   ],
   "source": [
    "CBF16 = create_CBF(0.0221)"
   ]
  },
  {
   "cell_type": "code",
   "execution_count": 38,
   "metadata": {
    "scrolled": true
   },
   "outputs": [
    {
     "name": "stdout",
     "output_type": "stream",
     "text": [
      "With 1000 items and a false positive rate of 0.0442 the number of hash functions is: 4 .\n"
     ]
    }
   ],
   "source": [
    "CBF17 = create_CBF(0.0442)"
   ]
  },
  {
   "cell_type": "code",
   "execution_count": 39,
   "metadata": {},
   "outputs": [
    {
     "name": "stdout",
     "output_type": "stream",
     "text": [
      "With 1000 items and a false positive rate of 0.0884 the number of hash functions is: 3 .\n"
     ]
    }
   ],
   "source": [
    "CBF18 = create_CBF(0.0884)"
   ]
  },
  {
   "cell_type": "code",
   "execution_count": 40,
   "metadata": {},
   "outputs": [
    {
     "name": "stdout",
     "output_type": "stream",
     "text": [
      "With 1000 items and a false positive rate of 0.177 the number of hash functions is: 2 .\n"
     ]
    }
   ],
   "source": [
    "CBF19 = create_CBF(0.177)"
   ]
  },
  {
   "cell_type": "code",
   "execution_count": 41,
   "metadata": {
    "scrolled": false
   },
   "outputs": [
    {
     "name": "stdout",
     "output_type": "stream",
     "text": [
      "With 1000 items and a false positive rate of 0.354 the number of hash functions is: 1 .\n"
     ]
    }
   ],
   "source": [
    "CBF20 = create_CBF(0.354)"
   ]
  },
  {
   "cell_type": "code",
   "execution_count": 42,
   "metadata": {
    "scrolled": true
   },
   "outputs": [
    {
     "name": "stdout",
     "output_type": "stream",
     "text": [
      "Recalibrated number of hash functions needed to 1.\n",
      "With 1000 items and a false positive rate of 0.708 the number of hash functions is: 1 .\n"
     ]
    }
   ],
   "source": [
    "CBF21 = create_CBF(0.708)"
   ]
  },
  {
   "cell_type": "code",
   "execution_count": 43,
   "metadata": {},
   "outputs": [
    {
     "data": {
      "text/plain": [
       "Text(0.5, 1.0, 'Experimental results:\\n FPR scaling with number of hash functions')"
      ]
     },
     "execution_count": 43,
     "metadata": {},
     "output_type": "execute_result"
    },
    {
     "data": {
      "image/png": "[encoded data removed]",
      "text/plain": [
       "<Figure size 432x288 with 1 Axes>"
      ]
     },
     "metadata": {
      "needs_background": "light"
     },
     "output_type": "display_data"
    }
   ],
   "source": [
    "plt.plot(x, y, 'ro') \n",
    "plt.xlabel(\"Number of hash functions\")\n",
    "plt.ylabel(\"FPR\")\n",
    "plt.title(\"Experimental results:\\n FPR scaling with number of hash functions\")"
   ]
  },
  {
   "cell_type": "markdown",
   "metadata": {},
   "source": [
    "Theoretically, the FPR should scale in a negative manner (exponentially decaying, at least in the beginning)  with the number of hash functions. The fewer hash functions, the higher the FPR, as the more likely that a (uncoded and not present) key will have the same hash value(s) as another (already incoded and actually present) key.  Consequently, moving from one hash function to two hash functions will create a dramastic improvement in the accuracy of the FPR. The more hash functions (up to a limit), the lower the rate of false positives.  However, the law of diminishing marginal utility exists; if we already have many hash functions the false positive rate will not improve (i.e. decrease) in a significant manner. \n",
    "\n",
    "Experimental results (graphed above) support this.  Furthermore, they illustrate the non-continuous relationship between hash functions and FPRs. As it is not possible to have 1.5 hash functions, a whole number of hash functions will encompass a range of possible FPRs.  Specifically, for my CBF and according to the above tests, these are: "
   ]
  },
  {
   "cell_type": "markdown",
   "metadata": {},
   "source": [
    "ideally \"0\" hash functions, recalibrated to 1 hash function: 0.707 < fpr \n",
    "\n",
    "1 hash function: 0.354 <= fpr <= 0.707\n",
    "\n",
    "2 hash functions: 0.177 <= fpr < 0.354\n",
    "\n",
    "3 hash functions: 0.0884 <= fpr < 0.177\n",
    "\n",
    "4 hash functions: 0.0442 <= fpr < 0.0884\n",
    "\n",
    "5 hash functions: 0.0222 <= fpr < 0.0442\n",
    "\n",
    "ideally 6+ hash functions, recalibrated to 5 hash functions: fpr < 0.0222"
   ]
  },
  {
   "cell_type": "markdown",
   "metadata": {},
   "source": [
    "__4. [#DataStructures, #ComplexityAnalysis] How does the access time to hashed values scale with the number of items stored in a CBF kept at constant FPR?__"
   ]
  },
  {
   "cell_type": "code",
   "execution_count": 44,
   "metadata": {},
   "outputs": [],
   "source": [
    "import time"
   ]
  },
  {
   "cell_type": "code",
   "execution_count": 45,
   "metadata": {},
   "outputs": [],
   "source": [
    "def store_items(CBF):\n",
    "    \"\"\"\n",
    "    Populates the CBF with the\n",
    "    hash values of the specified \n",
    "    number of items, taken from \n",
    "    Shakespeare's texts.\n",
    "    \"\"\"\n",
    "    for i in range(CBF.num_item):\n",
    "        CBF.insert(all_text[i])\n",
    "\n",
    "    return CBF"
   ]
  },
  {
   "cell_type": "code",
   "execution_count": 46,
   "metadata": {},
   "outputs": [],
   "source": [
    "x = []\n",
    "y = []\n",
    "\n",
    "def get_CBF_time(CBF, word):\n",
    "    \"\"\"\n",
    "    Calculates the time elapsed\n",
    "    when searching for hash values\n",
    "    of an item in a CBF with given \n",
    "    number of items stored.\n",
    "    \"\"\"\n",
    "    # start timer\n",
    "    start = time.time()\n",
    "    # access hashed values\n",
    "    found = CBF.search(word)\n",
    "    # end timer\n",
    "    end = time.time()\n",
    "    # calculate time elapsed\n",
    "    timing = end - start\n",
    "    # print the outcome \n",
    "    print(\"For a CBF with\", CBF.num_item, \"items, the access time to the hashed values of the item\", word, \"is:\", timing, \"seconds.\")\n",
    "    \n",
    "    # add to lists for later reference\n",
    "    x.append(CBF.num_item)\n",
    "    y.append(timing)"
   ]
  },
  {
   "cell_type": "code",
   "execution_count": 47,
   "metadata": {},
   "outputs": [
    {
     "name": "stdout",
     "output_type": "stream",
     "text": [
      "Element This might exist here.\n",
      "For a CBF with 1 items, the access time to the hashed values of the item This is: 0.0001418590545654297 seconds.\n",
      "Element Magali might exist here.\n",
      "For a CBF with 1 items, the access time to the hashed values of the item Magali is: 6.604194641113281e-05 seconds.\n"
     ]
    }
   ],
   "source": [
    "CBF2 = store_items(CBF2)\n",
    "get_CBF_time(CBF2, \"This\")\n",
    "get_CBF_time(CBF2, \"Magali\")"
   ]
  },
  {
   "cell_type": "code",
   "execution_count": 48,
   "metadata": {},
   "outputs": [
    {
     "name": "stdout",
     "output_type": "stream",
     "text": [
      "Element This might exist here.\n",
      "For a CBF with 2 items, the access time to the hashed values of the item This is: 0.0002639293670654297 seconds.\n",
      "Element Magali might exist here.\n",
      "For a CBF with 2 items, the access time to the hashed values of the item Magali is: 6.008148193359375e-05 seconds.\n"
     ]
    }
   ],
   "source": [
    "CBF3 = store_items(CBF3)\n",
    "get_CBF_time(CBF3, \"This\")\n",
    "get_CBF_time(CBF3, \"Magali\")"
   ]
  },
  {
   "cell_type": "code",
   "execution_count": 49,
   "metadata": {},
   "outputs": [
    {
     "name": "stdout",
     "output_type": "stream",
     "text": [
      "Element This might exist here.\n",
      "For a CBF with 10 items, the access time to the hashed values of the item This is: 0.0003428459167480469 seconds.\n",
      "Element Magali does not exist here.\n",
      "For a CBF with 10 items, the access time to the hashed values of the item Magali is: 0.00017571449279785156 seconds.\n"
     ]
    }
   ],
   "source": [
    "CBF4 = store_items(CBF4)\n",
    "get_CBF_time(CBF4, \"This\")\n",
    "get_CBF_time(CBF4, \"Magali\")"
   ]
  },
  {
   "cell_type": "code",
   "execution_count": 50,
   "metadata": {},
   "outputs": [
    {
     "name": "stdout",
     "output_type": "stream",
     "text": [
      "Element This might exist here.\n",
      "For a CBF with 50 items, the access time to the hashed values of the item This is: 0.00032782554626464844 seconds.\n",
      "Element Magali does not exist here.\n",
      "For a CBF with 50 items, the access time to the hashed values of the item Magali is: 0.00012803077697753906 seconds.\n"
     ]
    }
   ],
   "source": [
    "CBF5 = store_items(CBF5)\n",
    "get_CBF_time(CBF5, \"This\")\n",
    "get_CBF_time(CBF5, \"Magali\")"
   ]
  },
  {
   "cell_type": "code",
   "execution_count": 51,
   "metadata": {},
   "outputs": [
    {
     "name": "stdout",
     "output_type": "stream",
     "text": [
      "Element This might exist here.\n",
      "For a CBF with 100 items, the access time to the hashed values of the item This is: 0.00027298927307128906 seconds.\n",
      "Element Magali does not exist here.\n",
      "For a CBF with 100 items, the access time to the hashed values of the item Magali is: 6.67572021484375e-05 seconds.\n"
     ]
    }
   ],
   "source": [
    "CBF6 = store_items(CBF6)\n",
    "get_CBF_time(CBF6, \"This\")\n",
    "get_CBF_time(CBF6, \"Magali\")"
   ]
  },
  {
   "cell_type": "code",
   "execution_count": 52,
   "metadata": {},
   "outputs": [
    {
     "name": "stdout",
     "output_type": "stream",
     "text": [
      "Element This might exist here.\n",
      "For a CBF with 50 items, the access time to the hashed values of the item This is: 0.00022602081298828125 seconds.\n",
      "Element Magali does not exist here.\n",
      "For a CBF with 50 items, the access time to the hashed values of the item Magali is: 6.580352783203125e-05 seconds.\n"
     ]
    }
   ],
   "source": [
    "CBF7 = store_items(CBF5)\n",
    "get_CBF_time(CBF7, \"This\")\n",
    "get_CBF_time(CBF7, \"Magali\")"
   ]
  },
  {
   "cell_type": "code",
   "execution_count": 53,
   "metadata": {},
   "outputs": [
    {
     "name": "stdout",
     "output_type": "stream",
     "text": [
      "Element This might exist here.\n",
      "For a CBF with 10000 items, the access time to the hashed values of the item This is: 9.107589721679688e-05 seconds.\n",
      "Element Magali does not exist here.\n",
      "For a CBF with 10000 items, the access time to the hashed values of the item Magali is: 4.100799560546875e-05 seconds.\n"
     ]
    }
   ],
   "source": [
    "CBF8 = store_items(CBF8)\n",
    "get_CBF_time(CBF8, \"This\")\n",
    "get_CBF_time(CBF8, \"Magali\")"
   ]
  },
  {
   "cell_type": "code",
   "execution_count": 54,
   "metadata": {
    "scrolled": true
   },
   "outputs": [
    {
     "name": "stdout",
     "output_type": "stream",
     "text": [
      "Element This might exist here.\n",
      "For a CBF with 100000 items, the access time to the hashed values of the item This is: 0.000102996826171875 seconds.\n",
      "Element Magali does not exist here.\n",
      "For a CBF with 100000 items, the access time to the hashed values of the item Magali is: 4.291534423828125e-05 seconds.\n"
     ]
    }
   ],
   "source": [
    "CBF9 = store_items(CBF9)\n",
    "get_CBF_time(CBF9, \"This\")\n",
    "get_CBF_time(CBF9, \"Magali\")"
   ]
  },
  {
   "cell_type": "code",
   "execution_count": 55,
   "metadata": {},
   "outputs": [
    {
     "data": {
      "text/plain": [
       "Text(0.5, 1.0, 'Experimental results:\\n Access time scaling with number of items stored')"
      ]
     },
     "execution_count": 55,
     "metadata": {},
     "output_type": "execute_result"
    },
    {
     "data": {
      "image/png": "[encoded data removed]",
      "text/plain": [
       "<Figure size 432x288 with 1 Axes>"
      ]
     },
     "metadata": {
      "needs_background": "light"
     },
     "output_type": "display_data"
    }
   ],
   "source": [
    "plt.plot(x, y, 'ro') \n",
    "plt.xlabel(\"Number of items stored in CBF\")\n",
    "plt.ylabel(\"Access time of hashed values \\n(i.e. search functions)\\in seconds\")\n",
    "plt.title(\"Experimental results:\\n Access time scaling with number of items stored\")"
   ]
  },
  {
   "cell_type": "markdown",
   "metadata": {},
   "source": [
    "Theoretically, the access time should not be dependent on the number of items stored. This is the value of CBFs.  Search time is O(1) as the same number of hash values are checked (simply for a conditional statement checking if there is a corresponding \"0\" of not). The amount of checking does not relate to the number of items but rather to the number of hash functions, which is constant for a CBF and all the corresponding access to hash values.\n",
    "\n",
    "Experimental results (graphed above) kind of support this no scaling.  The values all lie below 0.0011 seconds but are scattered.  This can likely be explained by noise (from my computer) when measuring computation time."
   ]
  },
  {
   "cell_type": "markdown",
   "metadata": {
    "deletable": false,
    "editable": false,
    "nbgrader": {
     "checksum": "d7f70354cd73ab5698686a0264a7bd48",
     "grade": false,
     "grade_id": "cell-2b3ef79d47e4e5d8",
     "locked": true,
     "schema_version": 1,
     "solution": false
    }
   },
   "source": [
    "### Task 5. [#ComputationalCritique]\n",
    "\n",
    "Identify and list (if any) corner cases for CBFs. Explain why these cases should be taken into account if you are a software engineer.\n"
   ]
  },
  {
   "cell_type": "markdown",
   "metadata": {
    "deletable": false,
    "nbgrader": {
     "checksum": "152195ee2616469d23c43456f16aadb0",
     "grade": true,
     "grade_id": "cell-dfe791e15f2fe896",
     "locked": false,
     "points": 0,
     "schema_version": 1,
     "solution": true
    }
   },
   "source": [
    "##### Corner cases"
   ]
  },
  {
   "cell_type": "markdown",
   "metadata": {},
   "source": [
    "_Creating a CBF with 0 elements._ \n",
    "\n",
    "It is possible that the CBF is instanciated with 0 number of items as a parameter. As this (creating a CBF to store 0 elements) would of no value, I take this into account by raising a ValueError: \"There must be at least one element that will be stored to create a CBF.\" This is demonstrated in Task 4 when I call CBF1 = create_CBF(0)."
   ]
  },
  {
   "cell_type": "markdown",
   "metadata": {},
   "source": [
    "_Passing more elements than originally specified._\n",
    "\n",
    "Meanwhile, it is possible that a CBF is created to store the hash values for, say, 1000 items. Nevertheless, it might be attempted to store more items than the pre-defined number used to create the CBF. This would compromise the false positives rate, increasing the number of false positive cases than was requested or pre-defined.  It is therefore important to mitigate this from happenning by keeping track of the number of items inserted and removed.  This can be achieved by creating a global variable and raising an error if it becomes higher than the  defined number of items (num_item) of the class.  A possibility, after raising the error, would be to recalibrate the memory size and number of hash functions to accomodate more elements.\n"
   ]
  },
  {
   "cell_type": "markdown",
   "metadata": {},
   "source": [
    "_Requiring more (or less) hash functions than provided based on the specified FPR_\n",
    "\n",
    "Currently, as demonstrated in Part 4, if the requested FPR is greated 0.707 (as in there's a 70.7% chance that the element does not exist when its hash values are found in the CBF), the calculated number of required hash functions in 0. Yet we need at least one. (This is currently taken care of through a conditional recalibration in my CBF class.) However this is not a problem, as it is great that our actual false positive rate is lower than the requested one.\n",
    "\n",
    "What does pose issue is when the requested FPR is lower than what can be currently provided by the maximum five available hash functions.  Given this minimum viable product, the current lowest rate of false positives than can be expected is 0.0222 (or a 2.22% chance that an element does not really exist even though its hash values are found in the CBF).  In other words, we are currently limited by the number of hash functions. \n",
    "\n",
    "Ideally, the CBF class would be able to get the number of hash functions calculated based on the passed RBF rate and number of items stored, irrespective of the size of the number needed.  This would allow it to have very close the desired FPR. To achieve this, we would need to be able to create unlimited numbers of hash functions.  Using a base structure to define the hash functions and then adding some computation to it (that would maintain deterministic, random distribution of hash values) would allow us to create multiple of these.  With this goal in mind, I _drafted_ a class (Appendix A) that would allow the CBF to have a list of hash functions that fits its need. "
   ]
  },
  {
   "cell_type": "markdown",
   "metadata": {
    "deletable": false,
    "nbgrader": {
     "checksum": "152195ee2616469d23c43456f16aadb0",
     "grade": true,
     "grade_id": "cell-dfe791e15f2fe896",
     "locked": false,
     "points": 0,
     "schema_version": 1,
     "solution": true
    }
   },
   "source": [
    "_Uniformily random distribution of hash values_"
   ]
  },
  {
   "cell_type": "markdown",
   "metadata": {},
   "source": [
    "Finally, it is important to keep in mind that we are assuming that the hash functions will return hash values from the keys in a close-to (deterministically) uniformaly random manner.  (This is relied upon when determining, for example, the needed memory size with the given FPR.)  If this assumption is violated then the FPR may not be maintained as multiple keys are mapped to the same indexes, creating a higher likelihood of having overlaps of indexes and consequent false positives.  To minimize this, using excellent hash functions is critical."
   ]
  },
  {
   "cell_type": "markdown",
   "metadata": {},
   "source": [
    "## References\n",
    "\n",
    "\n",
    "Boyd, I. (2014). How many hash functions does my bloom filter need? Retrieved from\n",
    "https://stackoverflow.com/questions/658439/how-many-hash-functions-does-my-bloom-filter-need.\n",
    "\n",
    "Ficara, D., Giordano, S., Procisssi, G., & Vitucci, F. (2008). MultiLayer Compressed Counting Bloom Filters. IEEE. doi: 10.1109/INFOCOM.2008.71"
   ]
  },
  {
   "cell_type": "markdown",
   "metadata": {},
   "source": [
    "## Appendix A: Future Developments\n"
   ]
  },
  {
   "cell_type": "markdown",
   "metadata": {},
   "source": [
    "### Creating a CBF with Hashing (OOP in progress)"
   ]
  },
  {
   "cell_type": "code",
   "execution_count": null,
   "metadata": {},
   "outputs": [],
   "source": [
    "class Hashings(object):\n",
    "    \"\"\"\n",
    "    Implements an array of hash functions\n",
    "    \"\"\"\n",
    "    def __init__(self, num_hash, max_val):\n",
    "        \"\"\"\n",
    "        Defines the following parameters of a hashings:\n",
    "        - hashes: list, contains hash functions\n",
    "        \"\"\"\n",
    "        \n",
    "        # Define number of hash functions\n",
    "        self.num_hash = num_hash\n",
    "        self.max_val = max_val\n",
    "        \n",
    "        # Define a list to contain hash functions\n",
    "        self.hashes = []*num_hash\n",
    "        \n",
    "            \n",
    "    def create_hash(max_val):\n",
    "        \"\"\"\n",
    "        Creates a hash function:\n",
    "        - hash: function, with input key, \n",
    "            output index position WITHIN length  \n",
    "        \"\"\" \n",
    "        # Create a random hash function\n",
    "        # with largest possible output == max_val \n",
    "        \n",
    "        hash_fun = hashlib.md5() #Use the first hash function\n",
    "        \n",
    "        return hash_fun \n",
    "        \n",
    "    def add_hash(new_hash):\n",
    "        \"\"\"\n",
    "        Add a hash function to the list of hash functions\n",
    "        \"\"\" \n",
    "        self.hashes.append(new_hash)\n",
    "    \n",
    "    def remove_hash():\n",
    "        \"\"\"\n",
    "        Removes a hash function from the list of hash functions\n",
    "        \"\"\"\n",
    "        self.num_hash = num_hash-1\n",
    "        \n",
    "        new_hashes = []*num_hash\n",
    "        for i in range(num_hash):\n",
    "            new_hashes.append(hashes[i])\n",
    "        self.hashes = new_hashes\n",
    "        "
   ]
  },
  {
   "cell_type": "code",
   "execution_count": null,
   "metadata": {},
   "outputs": [],
   "source": [
    "class CountingBloomFilter(object):\n",
    "    \"\"\"Implements the counting bloom filter which supports:\n",
    "    - search: queries the membership of an element\n",
    "    - insert: inserts a string to the filter\n",
    "    - delete: removes a string from the filter \n",
    "    \"\"\"\n",
    "    \n",
    "    def __init__(self, fpr, num_item):\n",
    "        \"\"\"\n",
    "        Defines the following parameters of a CBF:\n",
    "        - fpr: float, false positive rate\n",
    "        - memory_size: int, memory size\n",
    "        - num_item: int, number of items stored\n",
    "        - num_hashfn: int, number of hash functions\n",
    "        - \n",
    "        - storage: list, stores hash function values \n",
    "                   i.e.  the hash table / CBF\n",
    "        \"\"\"\n",
    "        \n",
    "        # Chosen arguments are false positive rate & number of items\n",
    "        self.fpr = fpr # false positive rate\n",
    "        self.num_item = num_item # number of items\n",
    "        \n",
    "        # Define the \"memory\" size (bitsA) needed\n",
    "        # a function of the false positive rate and the number of items\n",
    "        memory_size = -1*round((self.num_item * math.log(self.fpr))/(math.log(2))**2) \n",
    "        # Reference for above formula: (Boyd, 2014)\n",
    "        # https://stackoverflow.com/questions/658439/how-many-hash-functions-does-my-bloom-filter-need\n",
    "        self.memory_size = memory_size\n",
    "        # Create the corresponding list initiated with 0s\n",
    "        # convert bits to size of list required\n",
    "        self.storage_length = round(memory_size/32)\n",
    "        self.storage = [0] * self.storage_length\n",
    "        \n",
    "        # Define the number of hash functions needed\n",
    "        # to obtain the false positive rate \n",
    "        # given the numbe of items and memory size\n",
    "        num_hashfn = round(self.memory_size / self.num_item * math.log(2))\n",
    "        # Reference for above formula: (Boyd, 2014)\n",
    "        # https://stackoverflow.com/questions/658439/how-many-hash-functions-does-my-bloom-filter-need\n",
    "        self.num_hashfn = num_hashfn\n",
    "        # Check that it's within bounds of CBF i.e. more than 1\n",
    "        if self.num_hashfn < 1:\n",
    "            self.num_hashfn = 1      \n",
    "        # Create corresponding hash functions\n",
    "        hash_funs = Hashings(self.num_hashfn, self.storage_length)\n",
    "        # Limit to number of pre-defined hash functions (8)\n",
    "        # if self.num_hashfn > 8:\n",
    "            # self.num_hashfn = 8\n",
    "        # if self.num_hashfn < 1:\n",
    "            # self.num_hashfn = 1      \n",
    "        \n",
    "    def hash_cbf(self, item):\n",
    "        \"\"\"\n",
    "        Returns hash values of an item\n",
    "        using hash functions\n",
    "        \"\"\"\n",
    "        \n",
    "        hash_lst = [] # list of hash values\n",
    "        \n",
    "        # go through all hash functions\n",
    "        for i in range(0, self.hash_funs.getlength()): \n",
    "            # retrieve hash function \n",
    "            hash_function = hash_functions[i] \n",
    "            # use hash function\n",
    "            idx = hash_function(item)\n",
    "            # append returned value from hash function\n",
    "            hash_lst.append(idx) \n",
    "\n",
    "        return hash_lst # return list of hash values\n",
    "        \n",
    "    def search(self, item):\n",
    "        \"\"\"\n",
    "        States whether an element exists\n",
    "        Returns boolean:\n",
    "        True = possibly exists\n",
    "        False = for sure does not exist\n",
    "        \"\"\"\n",
    "        \n",
    "        exists = True\n",
    "        \n",
    "        # obtain elements's corresponding hash values\n",
    "        h_values = self.hash_cbf(item)\n",
    "        \n",
    "        # go through the CBF \n",
    "        # and check corresponding hash values\n",
    "        for i in h_values:\n",
    "            # if corresponding hash value isn't marked\n",
    "            if self.storage[i] == 0: \n",
    "                # element does not exist\n",
    "                exists = False\n",
    "        \n",
    "        return exists\n",
    "        \n",
    "    def insert(self, item):\n",
    "        \"\"\"\n",
    "        Adds an element to the CBF\n",
    "        by adding its corresponding hash values \n",
    "        \"\"\"\n",
    "        \n",
    "        # obtain elements's corresponding hash values\n",
    "        h_values = self.hash_cbf(item)\n",
    "        \n",
    "        # add 1 to each index corresponding to the hash value\n",
    "        for i in h_values:\n",
    "            self.storage[i] += 1 \n",
    "            \n",
    "    def delete(self, item):\n",
    "        \"\"\"\n",
    "        Removes an element from the CBF\n",
    "        by subtracting its corresponding hash values\n",
    "        \"\"\"\n",
    "        \n",
    "        # obtain elements's corresponding hash values\n",
    "        h_values = self.hash_cbf(item)\n",
    "        \n",
    "        # check if element exists\n",
    "        exist = self.search(item)\n",
    "        \n",
    "        # if it exists, remove each corresponding hash value\n",
    "        if exist: \n",
    "            for i in h_values:\n",
    "                self.storage[i] -= 1 \n",
    "        else:\n",
    "            print(\"No need to delete the element:\", item, \". It does not exist in the CBF.\")\n",
    "            "
   ]
  },
  {
   "cell_type": "markdown",
   "metadata": {},
   "source": [
    "## Appendix B: Applied Habits of Mind & Foundational Concepts\n"
   ]
  },
  {
   "cell_type": "markdown",
   "metadata": {},
   "source": [
    "__#medium__\n",
    "\n",
    "I explain in detail (through comments) each method in my CBF class, a unique and very useful type of medium in coding. Prior to creating the class, I furthermore make sure to explain why I chose to use the package hashlib and how it contributes to creating a reliable CBF. \n"
   ]
  },
  {
   "cell_type": "markdown",
   "metadata": {},
   "source": [
    "__#testability__\n",
    "\n",
    "I clearly explain, through self-explanatory method titles and calls, comments in the methods' code, and informative printed messages, how I assess the accuracy of my CBF by defining reusable methods and passing multiple test cases. This is achieved at the end of Task 3 (in the section titled \"demonstrating how my code works\") and in Task 4."
   ]
  },
  {
   "cell_type": "markdown",
   "metadata": {},
   "source": [
    "__#constraints__\n",
    "\n",
    "I accurately identify (in my CBF class code) and analyze (in Task 4 and Task 5) the constraint on possibly requiring more hash functions than the currently 5 currently available. I make sure to recalibrate in the code (and to communicate this to the user) the total number of hash functions if the calculation based on the FPR and number of items asks for more than 5 or less than 1 hash functions.  Meanwhile, I identify the limits on the FPR that the current maximum number of hash functions can accomodate. Considering this analysis, I make the first steps towards a solution, by proposing a Hashing class that would allow for the creation of (unlimited, or, rather, as-many-as-needed) hash functions (Appendix A). \n",
    "\n",
    "Last but not least, I identify nuanced obstacles and constraints (i.e. corner cases) in Task 5 and outline in detail coding solutions to them."
   ]
  }
 ],
 "metadata": {
  "kernelspec": {
   "display_name": "Python 3",
   "language": "python",
   "name": "python3"
  },
  "language_info": {
   "codemirror_mode": {
    "name": "ipython",
    "version": 3
   },
   "file_extension": ".py",
   "mimetype": "text/x-python",
   "name": "python",
   "nbconvert_exporter": "python",
   "pygments_lexer": "ipython3",
   "version": "3.7.3"
  }
 },
 "nbformat": 4,
 "nbformat_minor": 2
}
