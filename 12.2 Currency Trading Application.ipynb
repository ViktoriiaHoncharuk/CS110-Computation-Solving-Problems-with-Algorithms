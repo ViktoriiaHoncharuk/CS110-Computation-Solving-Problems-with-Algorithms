{
 "cells": [
  {
   "cell_type": "code",
   "execution_count": null,
   "metadata": {},
   "outputs": [],
   "source": [
    "NAME = \"Magali\"\n",
    "COLLABORATORS = \"NA\""
   ]
  },
  {
   "cell_type": "markdown",
   "metadata": {},
   "source": [
    "---"
   ]
  },
  {
   "cell_type": "markdown",
   "metadata": {
    "deletable": false,
    "editable": false,
    "nbgrader": {
     "checksum": "d7cae628a3a7dfc685fb4a651b255e7f",
     "grade": false,
     "grade_id": "cell-7c653a07f1dcf31f",
     "locked": true,
     "schema_version": 1,
     "solution": false
    }
   },
   "source": [
    "# CS110 Pre-class Work 11.2\n",
    "\n",
    "## Part A.  Currency trading (Slightly simplified version of 15.3-6 from Cormen et al.)\n",
    "\n",
    "Imagine that you wish to exchange one currency for another. You realize that instead of directly exchanging one currency for another, you might be better off making a series of trades through other currencies, winding up with the currency you want.\n",
    "\n",
    "Suppose that you can trade n different currencies, numbered $1,2,… ,n$, where you start with currency 1 and wish to wind up with currency $n$. You are given, for each pair of currencies $i$ and $j$ , an exchange rate $r_{ij}$ , meaning that if you start with $d$ units of currency $i$ , you can trade for $dr_{ij}$ units of currency $j$. Note that the total number of trades allowed is limited to $n$.\n",
    "\n",
    "Assuming there is no commission, propose an algorithm (described in prose) to solve this problem using either a memoization or bottom-up strategy. **Note that we will be working on the Python implementation in class.**\n",
    "\n",
    "Click [here](https://drive.google.com/open?id=1L8Fjo1Xt8sltab-tz3m91eTuiE9LYWF7) for some example data."
   ]
  },
  {
   "cell_type": "markdown",
   "metadata": {
    "deletable": false,
    "nbgrader": {
     "checksum": "6a364d83fa9056b77c801ed198a4bb4b",
     "grade": true,
     "grade_id": "cell-3f8a8808c720baf2",
     "locked": false,
     "points": 0,
     "schema_version": 1,
     "solution": true
    }
   },
   "source": [
    "This is an optimization problem where we seek to find the optimal way trades.  Hence we need to convert each currency into another currency and find the maximum value of each of these subproblems, and then recombine them accordingly.  This can be achieved through a bottom-up dynamic programming algorithm. We solve all of the smallest subproblem conversion first. We convert from currency 1 to 2 or 3 or 4.... all the way up to n and repeat this each time the currency has been exchanged, except we do not repeat past cases. We can then choose each optimal subsolution and compose the optimal solution from this. "
   ]
  },
  {
   "cell_type": "markdown",
   "metadata": {},
   "source": [
    "Another way to look at this is that theoretically the exchange from currency X to Y and from currency Y and X should add up to 2. So if a currency adds up to less than that, then it is an indication that it is either overvalued or undervalued. This can inform our choice of currencies for conversion. More thought on how this could be implemented algorithmically is needed."
   ]
  },
  {
   "cell_type": "markdown",
   "metadata": {
    "deletable": false,
    "editable": false,
    "nbgrader": {
     "checksum": "0f0c3ae16f851ad36fa786f2a5876c04",
     "grade": false,
     "grade_id": "cell-a98b3a35b99eff16",
     "locked": true,
     "schema_version": 1,
     "solution": false
    }
   },
   "source": [
    "## Part B - Money game (Solution)\n",
    "Consider a row of n coins of values $v_1, v_2,...,v_n$, **where $n$ is even**. We play a game against an opponent by alternating turns. In each turn, a player selects either the first or last coin from the row, removes it from the row permanently, and receives the value of the coin. Determine the maximum possible amount of money we can definitely win if we move first.\n",
    "\n",
    "For example, consider the game:\n",
    "\n",
    "\\$2, \\$10, \\$1, \\$5\n",
    "\n",
    "By moving first and playing optimally one can be guaranteed of \\$15. The first move is to take \\$5. This forces your opponent to take either \\$2 or \\$1, and then allows you to take \\$10. Assume that the opposing player also plays optimally (i.e., minimizing the gain of the first-move player.)\n",
    "\n",
    "As a hint, we will provide the recurrence for the solution to this problem. Suppose $c(i,j)$ is the maximum possible amount of money the first player can win for the row of coins of value $v_i, v){i+1},...,v_j$ (so to solve our problem, we need to compute $c(1,n)$. Then:\n",
    "\n",
    "$$c(i,j)=max[v_i+min(c(i+2,j), c(i+1,j-1)), v_j+min(c(i,j-2), c(i+1,j-1))]$$\n",
    "\n",
    "You are also encouraged to watch [this video](https://www.youtube.com/watch?v=KnP8_L13xW4&list=PLF_a-qBXTGFektoI6JUOTRL36JlvD04BR&index=5) if you need some more hints.\n",
    "\n",
    "## Question 1. \n",
    "Complete the following function to solve the game using a bottom-up strategy, assuming that the opposing player also plays optimally. \n"
   ]
  },
  {
   "cell_type": "code",
   "execution_count": 49,
   "metadata": {},
   "outputs": [],
   "source": [
    "def cut_array(A):\n",
    "    print(A)\n",
    "    last_i = len(A)-1\n",
    "    # print(\"last index:\", last_i)\n",
    "    if A[0] >= A[last_i]:\n",
    "        p = A[0]\n",
    "        A = A[1:]\n",
    "    else:\n",
    "        p = A[last_i]\n",
    "        A =  A[:last_i]\n",
    "    return A, p"
   ]
  },
  {
   "cell_type": "raw",
   "metadata": {},
   "source": [
    "print(cut_A([5, 1, 2, 3]))"
   ]
  },
  {
   "cell_type": "code",
   "execution_count": 93,
   "metadata": {},
   "outputs": [],
   "source": [
    "def bottom_up_coin_game(A):\n",
    "    \"\"\"\n",
    "    Returns the maximum possible amount of money the first-move player can win,\n",
    "    given an array of coin values. \n",
    "    \n",
    "    Inputs:\n",
    "    - A: list of floats, values of the coins, of even length. \n",
    "    \n",
    "    Outputs:\n",
    "    - max_val: float, maximum possible amount of money that can be won by the first \n",
    "    player. max_val is None when the length of list A is odd.\n",
    "    \"\"\"\n",
    "    \n",
    "    if len(A) % 2 != 0:\n",
    "        return None\n",
    "    if len(A) == 0:\n",
    "        return 0\n",
    "    \n",
    "    ttl_made = []\n",
    "    t = 0\n",
    "    \n",
    "    for j in range(0, len(A)):\n",
    "        A, coin = cut_array(A)\n",
    "        t = t+1\n",
    "        if t % 2 != 0: # assuming I start\n",
    "            ttl_made.append(coin)\n",
    "    \n",
    "    max_value = sum(ttl_made)\n",
    "    print(\"what I got as coins, as a first player:\", ttl_made)\n",
    "    print(\"total made:\", max_value)\n",
    "    \n",
    "    return max_value"
   ]
  },
  {
   "cell_type": "code",
   "execution_count": 92,
   "metadata": {
    "deletable": false,
    "editable": false,
    "nbgrader": {
     "checksum": "64d503b9fb6026f9ee38108702bb7b78",
     "grade": true,
     "grade_id": "cell-f7a5d6c26e95dab2",
     "locked": true,
     "points": 1,
     "schema_version": 1,
     "solution": false
    },
    "scrolled": true
   },
   "outputs": [
    {
     "name": "stdout",
     "output_type": "stream",
     "text": [
      "[2, 10, 1, 5]\n",
      "last index: 3\n",
      "[2, 10, 1]\n",
      "last index: 2\n",
      "[10, 1]\n",
      "last index: 1\n",
      "[1]\n",
      "last index: 0\n",
      "what I got, as a first player: [5, 10]\n"
     ]
    }
   ],
   "source": [
    "import numpy as np\n",
    "assert(bottom_up_coin_game([2, 10, 1, 5]) == 15)  \n",
    "assert(bottom_up_coin_game([2, 10, 1, 5, 5]) is None)  \n",
    "assert(bottom_up_coin_game([]) == 0)  "
   ]
  },
  {
   "cell_type": "code",
   "execution_count": 60,
   "metadata": {
    "deletable": false,
    "nbgrader": {
     "checksum": "e61cd25280229deedb59dc70bebca774",
     "grade": false,
     "grade_id": "cell-4014ae901b66304b",
     "locked": false,
     "schema_version": 1,
     "solution": true
    }
   },
   "outputs": [],
   "source": [
    "def bottom_up_coin_game(A):\n",
    "    \"\"\"\n",
    "    Returns the maximum possible amount of money the first-move player can win,\n",
    "    given an array of coin values. The function solves this using a bottom-up \n",
    "    approach.\n",
    "    \n",
    "    Inputs:\n",
    "    - A: list of floats, values of the coins, of even length. \n",
    "    \n",
    "    Outputs:\n",
    "    - max_val: float, maximum possible amount of money that can be won by the first \n",
    "    player. max_val is None when the length of list A is odd.\n",
    "    \"\"\"\n",
    "    \n",
    "    # store = [][]\n",
    "    w, h = len(A), len(A)\n",
    "    store = [[0 for x in range(w)] for y in range(h)] \n",
    "    \n",
    "    n = len(A)\n",
    "    for i in range(0, n):\n",
    "        a = n\n",
    "        sol = float('-inf')\n",
    "        temp_A = A\n",
    "        for j in range(0, a):\n",
    "            print(\"\\nturn:\", j)\n",
    "            temp_A, sol = cut_array(temp_A)\n",
    "            store[j][j+i] = sol  # modify this more to be along the lines of max(sol, ...)\n",
    "            print(\"the pick is:\", sol)\n",
    "            print(\"the array is now:\", A)\n",
    "            a = a-1\n",
    "        n = n-1\n",
    "    \n",
    "    print(\"final picks:\", store)\n",
    "    max_val = max(store)\n",
    "    \n",
    "    return max_val"
   ]
  },
  {
   "cell_type": "code",
   "execution_count": 85,
   "metadata": {
    "scrolled": true
   },
   "outputs": [
    {
     "name": "stdout",
     "output_type": "stream",
     "text": [
      "[2, 10, 1, 5]\n",
      "last index: 3\n",
      "[2, 10, 1]\n",
      "last index: 2\n",
      "[10, 1]\n",
      "last index: 1\n",
      "[1]\n",
      "last index: 0\n",
      "what I got: [5, 10]\n",
      "15\n"
     ]
    }
   ],
   "source": [
    "print(coin_game([2, 10, 1, 5]))"
   ]
  },
  {
   "cell_type": "code",
   "execution_count": 63,
   "metadata": {
    "scrolled": true
   },
   "outputs": [
    {
     "name": "stdout",
     "output_type": "stream",
     "text": [
      "\n",
      "turn: 0\n",
      "[2, 10, 1, 5]\n",
      "last index: 3\n",
      "the pick is: 5\n",
      "the array is now: [2, 10, 1, 5]\n",
      "\n",
      "turn: 1\n",
      "[2, 10, 1]\n",
      "last index: 2\n",
      "the pick is: 2\n",
      "the array is now: [2, 10, 1, 5]\n",
      "\n",
      "turn: 2\n",
      "[10, 1]\n",
      "last index: 1\n",
      "the pick is: 10\n",
      "the array is now: [2, 10, 1, 5]\n",
      "\n",
      "turn: 3\n",
      "[1]\n",
      "last index: 0\n",
      "the pick is: 1\n",
      "the array is now: [2, 10, 1, 5]\n",
      "\n",
      "turn: 0\n",
      "[2, 10, 1, 5]\n",
      "last index: 3\n",
      "the pick is: 5\n",
      "the array is now: [2, 10, 1, 5]\n",
      "\n",
      "turn: 1\n",
      "[2, 10, 1]\n",
      "last index: 2\n",
      "the pick is: 2\n",
      "the array is now: [2, 10, 1, 5]\n",
      "\n",
      "turn: 2\n",
      "[10, 1]\n",
      "last index: 1\n",
      "the pick is: 10\n",
      "the array is now: [2, 10, 1, 5]\n",
      "\n",
      "turn: 0\n",
      "[2, 10, 1, 5]\n",
      "last index: 3\n",
      "the pick is: 5\n",
      "the array is now: [2, 10, 1, 5]\n",
      "\n",
      "turn: 1\n",
      "[2, 10, 1]\n",
      "last index: 2\n",
      "the pick is: 2\n",
      "the array is now: [2, 10, 1, 5]\n",
      "\n",
      "turn: 0\n",
      "[2, 10, 1, 5]\n",
      "last index: 3\n",
      "the pick is: 5\n",
      "the array is now: [2, 10, 1, 5]\n",
      "final picks: [[5, 5, 5, 5, 0, 0, 0, 0], [0, 2, 2, 2, 0, 0, 0, 0], [0, 0, 10, 10, 0, 0, 0, 0], [0, 0, 0, 1, 0, 0, 0, 0], [0, 0, 0, 0, 0, 0, 0, 0]]\n",
      "\n",
      "the maximum is: [5, 5, 5, 5, 0, 0, 0, 0]\n"
     ]
    }
   ],
   "source": [
    "print(\"\\nthe maximum is:\", bottom_up_coin_game([2, 10, 1, 5]))"
   ]
  },
  {
   "cell_type": "raw",
   "metadata": {},
   "source": [
    "n = 4\n",
    "for i in range(0, n):\n",
    "    a = n\n",
    "    for j in range(0, a):\n",
    "        print(j, j+i)\n",
    "        a = a-1\n",
    "    n = n-1"
   ]
  },
  {
   "cell_type": "code",
   "execution_count": null,
   "metadata": {},
   "outputs": [],
   "source": [
    "import numpy as np\n",
    "assert(bottom_up_coin_game([2, 10, 1, 5]) == 15)  \n",
    "assert(bottom_up_coin_game([2, 10, 1, 5, 5]) is None)  \n",
    "assert(bottom_up_coin_game([]) == 0)  "
   ]
  },
  {
   "cell_type": "markdown",
   "metadata": {
    "deletable": false,
    "editable": false,
    "nbgrader": {
     "checksum": "1ddaa5e6e10fdbf969bafae2eb91e530",
     "grade": false,
     "grade_id": "cell-9f26726550c78cce",
     "locked": true,
     "schema_version": 1,
     "solution": false
    }
   },
   "source": [
    "## [Optional]  Question 2. \n",
    "\n",
    "Complete the function `print_strategy` to print out a solution to the coin game. Completing the helper function `extended_bottom_up_coin_game` to use in `print_strategy` is optional."
   ]
  },
  {
   "cell_type": "code",
   "execution_count": null,
   "metadata": {
    "deletable": false,
    "nbgrader": {
     "checksum": "33605d2bb0815e4281897b4e5170655d",
     "grade": false,
     "grade_id": "cell-4583755bc245e1e9",
     "locked": false,
     "schema_version": 1,
     "solution": true
    }
   },
   "outputs": [],
   "source": [
    "def print_strategy(A):\n",
    "    \"\"\"\n",
    "    Print coins to pick for the first player\n",
    "    \n",
    "    Inputs:\n",
    "    - A: list of floats, values of the coins, of even length.\n",
    "    \n",
    "    Outputs:\n",
    "    - max_val: float, maximum possible amount of money that can be won by the first \n",
    "    player. \n",
    "        * max_val is None if the length of list A is odd.\n",
    "        * max_val is 0 if list A is empty (no coins)\n",
    "    - out: list of values of the coins that the first player picks in that\n",
    "    order.\n",
    "        * out is None if max_val is 0 or None.\n",
    "    \"\"\"\n",
    "    # YOUR CODE HERE\n",
    "    raise NotImplementedError()"
   ]
  },
  {
   "cell_type": "code",
   "execution_count": null,
   "metadata": {
    "deletable": false,
    "editable": false,
    "nbgrader": {
     "checksum": "0cbc17ad7f81722cda989375cae1d00b",
     "grade": true,
     "grade_id": "cell-75ce551c5185e374",
     "locked": true,
     "points": 0,
     "schema_version": 1,
     "solution": false
    }
   },
   "outputs": [],
   "source": [
    "assert(print_strategy([4,6,5,20,4,6,4,8])[0] == 40)\n",
    "assert(print_strategy([4,6,5,20,4,6,4,8])[1] == [8, 6, 6, 20])"
   ]
  }
 ],
 "metadata": {
  "kernelspec": {
   "display_name": "Python 3",
   "language": "python",
   "name": "python3"
  },
  "language_info": {
   "codemirror_mode": {
    "name": "ipython",
    "version": 3
   },
   "file_extension": ".py",
   "mimetype": "text/x-python",
   "name": "python",
   "nbconvert_exporter": "python",
   "pygments_lexer": "ipython3",
   "version": "3.7.3"
  }
 },
 "nbformat": 4,
 "nbformat_minor": 2
}
